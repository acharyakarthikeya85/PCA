{
 "cells": [
  {
   "cell_type": "markdown",
   "metadata": {},
   "source": [
    "## Data Description\n",
    "\n",
    "### Asteriod Classification\n",
    "\n",
    "Data Source: The data has been collected from the NASA Open API available here The data is about Asteroids - NeoWs NeoWs (Near Earth Object Web Service) is a RESTful web service for near earth Asteroid information. With NeoWs a user can: search for Asteroids based on their closest approach date to Earth, lookup a specific Asteroid with its NASA JPL small body id, as well as browse the overall data-set.\n",
    "\n",
    "Data-set: All the data is from the (http://neo.jpl.nasa.gov/). This API is maintained by SpaceRocks Team: David Greenfield, Arezu Sarvestani, Jason English and Peter Baunach.\n",
    "\n",
    "Dimension:4687*40\n",
    "\n",
    "Size:2.4 MB\n",
    "\n",
    "Data Types:\n",
    "\n",
    "Data Type Number of columns ID 2 Continuous 30 Categorical 2 DateTime 2 Nominal 1 Raw Data: API\n",
    "\n",
    "**Problem Statement** : Identify whether the asteroids are hazardous or not based on the given features."
   ]
  },
  {
   "cell_type": "code",
   "execution_count": 1,
   "metadata": {},
   "outputs": [],
   "source": [
    "# Importing the libraries\n",
    "\n",
    "import pandas as pd\n",
    "import numpy as np\n",
    "import time"
   ]
  },
  {
   "cell_type": "code",
   "execution_count": 2,
   "metadata": {},
   "outputs": [],
   "source": [
    "import matplotlib.pyplot as plt\n",
    "import seaborn as sns\n",
    "\n",
    "%matplotlib inline\n",
    "plt.style.use('fivethirtyeight')"
   ]
  },
  {
   "cell_type": "code",
   "execution_count": 3,
   "metadata": {},
   "outputs": [
    {
     "data": {
      "text/html": [
       "<div>\n",
       "<style scoped>\n",
       "    .dataframe tbody tr th:only-of-type {\n",
       "        vertical-align: middle;\n",
       "    }\n",
       "\n",
       "    .dataframe tbody tr th {\n",
       "        vertical-align: top;\n",
       "    }\n",
       "\n",
       "    .dataframe thead th {\n",
       "        text-align: right;\n",
       "    }\n",
       "</style>\n",
       "<table border=\"1\" class=\"dataframe\">\n",
       "  <thead>\n",
       "    <tr style=\"text-align: right;\">\n",
       "      <th></th>\n",
       "      <th>Neo Reference ID</th>\n",
       "      <th>Name</th>\n",
       "      <th>Absolute Magnitude</th>\n",
       "      <th>Est Dia in KM(min)</th>\n",
       "      <th>Est Dia in KM(max)</th>\n",
       "      <th>Est Dia in M(min)</th>\n",
       "      <th>Est Dia in M(max)</th>\n",
       "      <th>Est Dia in Miles(min)</th>\n",
       "      <th>Est Dia in Miles(max)</th>\n",
       "      <th>Est Dia in Feet(min)</th>\n",
       "      <th>...</th>\n",
       "      <th>Asc Node Longitude</th>\n",
       "      <th>Orbital Period</th>\n",
       "      <th>Perihelion Distance</th>\n",
       "      <th>Perihelion Arg</th>\n",
       "      <th>Aphelion Dist</th>\n",
       "      <th>Perihelion Time</th>\n",
       "      <th>Mean Anomaly</th>\n",
       "      <th>Mean Motion</th>\n",
       "      <th>Equinox</th>\n",
       "      <th>Hazardous</th>\n",
       "    </tr>\n",
       "  </thead>\n",
       "  <tbody>\n",
       "    <tr>\n",
       "      <th>0</th>\n",
       "      <td>3703080</td>\n",
       "      <td>3703080</td>\n",
       "      <td>21.6</td>\n",
       "      <td>0.127220</td>\n",
       "      <td>0.284472</td>\n",
       "      <td>127.219879</td>\n",
       "      <td>284.472297</td>\n",
       "      <td>0.079051</td>\n",
       "      <td>0.176763</td>\n",
       "      <td>417.388066</td>\n",
       "      <td>...</td>\n",
       "      <td>314.373913</td>\n",
       "      <td>609.599786</td>\n",
       "      <td>0.808259</td>\n",
       "      <td>57.257470</td>\n",
       "      <td>2.005764</td>\n",
       "      <td>2.458162e+06</td>\n",
       "      <td>264.837533</td>\n",
       "      <td>0.590551</td>\n",
       "      <td>J2000</td>\n",
       "      <td>True</td>\n",
       "    </tr>\n",
       "    <tr>\n",
       "      <th>1</th>\n",
       "      <td>3723955</td>\n",
       "      <td>3723955</td>\n",
       "      <td>21.3</td>\n",
       "      <td>0.146068</td>\n",
       "      <td>0.326618</td>\n",
       "      <td>146.067964</td>\n",
       "      <td>326.617897</td>\n",
       "      <td>0.090762</td>\n",
       "      <td>0.202951</td>\n",
       "      <td>479.225620</td>\n",
       "      <td>...</td>\n",
       "      <td>136.717242</td>\n",
       "      <td>425.869294</td>\n",
       "      <td>0.718200</td>\n",
       "      <td>313.091975</td>\n",
       "      <td>1.497352</td>\n",
       "      <td>2.457795e+06</td>\n",
       "      <td>173.741112</td>\n",
       "      <td>0.845330</td>\n",
       "      <td>J2000</td>\n",
       "      <td>False</td>\n",
       "    </tr>\n",
       "    <tr>\n",
       "      <th>2</th>\n",
       "      <td>2446862</td>\n",
       "      <td>2446862</td>\n",
       "      <td>20.3</td>\n",
       "      <td>0.231502</td>\n",
       "      <td>0.517654</td>\n",
       "      <td>231.502122</td>\n",
       "      <td>517.654482</td>\n",
       "      <td>0.143849</td>\n",
       "      <td>0.321655</td>\n",
       "      <td>759.521423</td>\n",
       "      <td>...</td>\n",
       "      <td>259.475979</td>\n",
       "      <td>643.580228</td>\n",
       "      <td>0.950791</td>\n",
       "      <td>248.415038</td>\n",
       "      <td>1.966857</td>\n",
       "      <td>2.458120e+06</td>\n",
       "      <td>292.893654</td>\n",
       "      <td>0.559371</td>\n",
       "      <td>J2000</td>\n",
       "      <td>True</td>\n",
       "    </tr>\n",
       "    <tr>\n",
       "      <th>3</th>\n",
       "      <td>3092506</td>\n",
       "      <td>3092506</td>\n",
       "      <td>27.4</td>\n",
       "      <td>0.008801</td>\n",
       "      <td>0.019681</td>\n",
       "      <td>8.801465</td>\n",
       "      <td>19.680675</td>\n",
       "      <td>0.005469</td>\n",
       "      <td>0.012229</td>\n",
       "      <td>28.876199</td>\n",
       "      <td>...</td>\n",
       "      <td>57.173266</td>\n",
       "      <td>514.082140</td>\n",
       "      <td>0.983902</td>\n",
       "      <td>18.707701</td>\n",
       "      <td>1.527904</td>\n",
       "      <td>2.457902e+06</td>\n",
       "      <td>68.741007</td>\n",
       "      <td>0.700277</td>\n",
       "      <td>J2000</td>\n",
       "      <td>False</td>\n",
       "    </tr>\n",
       "    <tr>\n",
       "      <th>4</th>\n",
       "      <td>3514799</td>\n",
       "      <td>3514799</td>\n",
       "      <td>21.6</td>\n",
       "      <td>0.127220</td>\n",
       "      <td>0.284472</td>\n",
       "      <td>127.219879</td>\n",
       "      <td>284.472297</td>\n",
       "      <td>0.079051</td>\n",
       "      <td>0.176763</td>\n",
       "      <td>417.388066</td>\n",
       "      <td>...</td>\n",
       "      <td>84.629307</td>\n",
       "      <td>495.597821</td>\n",
       "      <td>0.967687</td>\n",
       "      <td>158.263596</td>\n",
       "      <td>1.483543</td>\n",
       "      <td>2.457814e+06</td>\n",
       "      <td>135.142133</td>\n",
       "      <td>0.726395</td>\n",
       "      <td>J2000</td>\n",
       "      <td>True</td>\n",
       "    </tr>\n",
       "  </tbody>\n",
       "</table>\n",
       "<p>5 rows × 40 columns</p>\n",
       "</div>"
      ],
      "text/plain": [
       "   Neo Reference ID     Name  Absolute Magnitude  Est Dia in KM(min)  \\\n",
       "0           3703080  3703080                21.6            0.127220   \n",
       "1           3723955  3723955                21.3            0.146068   \n",
       "2           2446862  2446862                20.3            0.231502   \n",
       "3           3092506  3092506                27.4            0.008801   \n",
       "4           3514799  3514799                21.6            0.127220   \n",
       "\n",
       "   Est Dia in KM(max)  Est Dia in M(min)  Est Dia in M(max)  \\\n",
       "0            0.284472         127.219879         284.472297   \n",
       "1            0.326618         146.067964         326.617897   \n",
       "2            0.517654         231.502122         517.654482   \n",
       "3            0.019681           8.801465          19.680675   \n",
       "4            0.284472         127.219879         284.472297   \n",
       "\n",
       "   Est Dia in Miles(min)  Est Dia in Miles(max)  Est Dia in Feet(min)  ...  \\\n",
       "0               0.079051               0.176763            417.388066  ...   \n",
       "1               0.090762               0.202951            479.225620  ...   \n",
       "2               0.143849               0.321655            759.521423  ...   \n",
       "3               0.005469               0.012229             28.876199  ...   \n",
       "4               0.079051               0.176763            417.388066  ...   \n",
       "\n",
       "   Asc Node Longitude Orbital Period  Perihelion Distance  Perihelion Arg  \\\n",
       "0          314.373913     609.599786             0.808259       57.257470   \n",
       "1          136.717242     425.869294             0.718200      313.091975   \n",
       "2          259.475979     643.580228             0.950791      248.415038   \n",
       "3           57.173266     514.082140             0.983902       18.707701   \n",
       "4           84.629307     495.597821             0.967687      158.263596   \n",
       "\n",
       "   Aphelion Dist  Perihelion Time  Mean Anomaly  Mean Motion  Equinox  \\\n",
       "0       2.005764     2.458162e+06    264.837533     0.590551    J2000   \n",
       "1       1.497352     2.457795e+06    173.741112     0.845330    J2000   \n",
       "2       1.966857     2.458120e+06    292.893654     0.559371    J2000   \n",
       "3       1.527904     2.457902e+06     68.741007     0.700277    J2000   \n",
       "4       1.483543     2.457814e+06    135.142133     0.726395    J2000   \n",
       "\n",
       "   Hazardous  \n",
       "0       True  \n",
       "1      False  \n",
       "2       True  \n",
       "3      False  \n",
       "4       True  \n",
       "\n",
       "[5 rows x 40 columns]"
      ]
     },
     "execution_count": 3,
     "metadata": {},
     "output_type": "execute_result"
    }
   ],
   "source": [
    "nasa_data = pd.read_csv(\"nasa.csv\")\n",
    "nasa_data.head()"
   ]
  },
  {
   "cell_type": "code",
   "execution_count": 4,
   "metadata": {
    "scrolled": true
   },
   "outputs": [
    {
     "name": "stdout",
     "output_type": "stream",
     "text": [
      "<class 'pandas.core.frame.DataFrame'>\n",
      "RangeIndex: 4687 entries, 0 to 4686\n",
      "Data columns (total 40 columns):\n",
      "Neo Reference ID                4687 non-null int64\n",
      "Name                            4687 non-null int64\n",
      "Absolute Magnitude              4687 non-null float64\n",
      "Est Dia in KM(min)              4687 non-null float64\n",
      "Est Dia in KM(max)              4687 non-null float64\n",
      "Est Dia in M(min)               4687 non-null float64\n",
      "Est Dia in M(max)               4687 non-null float64\n",
      "Est Dia in Miles(min)           4687 non-null float64\n",
      "Est Dia in Miles(max)           4687 non-null float64\n",
      "Est Dia in Feet(min)            4687 non-null float64\n",
      "Est Dia in Feet(max)            4687 non-null float64\n",
      "Close Approach Date             4687 non-null object\n",
      "Epoch Date Close Approach       4687 non-null int64\n",
      "Relative Velocity km per sec    4687 non-null float64\n",
      "Relative Velocity km per hr     4687 non-null float64\n",
      "Miles per hour                  4687 non-null float64\n",
      "Miss Dist.(Astronomical)        4687 non-null float64\n",
      "Miss Dist.(lunar)               4687 non-null float64\n",
      "Miss Dist.(kilometers)          4687 non-null float64\n",
      "Miss Dist.(miles)               4687 non-null float64\n",
      "Orbiting Body                   4687 non-null object\n",
      "Orbit ID                        4687 non-null int64\n",
      "Orbit Determination Date        4687 non-null object\n",
      "Orbit Uncertainity              4687 non-null int64\n",
      "Minimum Orbit Intersection      4687 non-null float64\n",
      "Jupiter Tisserand Invariant     4687 non-null float64\n",
      "Epoch Osculation                4687 non-null float64\n",
      "Eccentricity                    4687 non-null float64\n",
      "Semi Major Axis                 4687 non-null float64\n",
      "Inclination                     4687 non-null float64\n",
      "Asc Node Longitude              4687 non-null float64\n",
      "Orbital Period                  4687 non-null float64\n",
      "Perihelion Distance             4687 non-null float64\n",
      "Perihelion Arg                  4687 non-null float64\n",
      "Aphelion Dist                   4687 non-null float64\n",
      "Perihelion Time                 4687 non-null float64\n",
      "Mean Anomaly                    4687 non-null float64\n",
      "Mean Motion                     4687 non-null float64\n",
      "Equinox                         4687 non-null object\n",
      "Hazardous                       4687 non-null bool\n",
      "dtypes: bool(1), float64(30), int64(5), object(4)\n",
      "memory usage: 1.4+ MB\n"
     ]
    }
   ],
   "source": [
    "nasa_data.info()"
   ]
  },
  {
   "cell_type": "markdown",
   "metadata": {},
   "source": [
    "** There are no missing values **"
   ]
  },
  {
   "cell_type": "markdown",
   "metadata": {},
   "source": [
    "##  Performing Descriptive Statistics on the dataset and come up with insights on shape, spread and central deviation "
   ]
  },
  {
   "cell_type": "code",
   "execution_count": 5,
   "metadata": {},
   "outputs": [
    {
     "data": {
      "text/html": [
       "<div>\n",
       "<style scoped>\n",
       "    .dataframe tbody tr th:only-of-type {\n",
       "        vertical-align: middle;\n",
       "    }\n",
       "\n",
       "    .dataframe tbody tr th {\n",
       "        vertical-align: top;\n",
       "    }\n",
       "\n",
       "    .dataframe thead th {\n",
       "        text-align: right;\n",
       "    }\n",
       "</style>\n",
       "<table border=\"1\" class=\"dataframe\">\n",
       "  <thead>\n",
       "    <tr style=\"text-align: right;\">\n",
       "      <th></th>\n",
       "      <th>Neo Reference ID</th>\n",
       "      <th>Name</th>\n",
       "      <th>Absolute Magnitude</th>\n",
       "      <th>Est Dia in KM(min)</th>\n",
       "      <th>Est Dia in KM(max)</th>\n",
       "      <th>Est Dia in M(min)</th>\n",
       "      <th>Est Dia in M(max)</th>\n",
       "      <th>Est Dia in Miles(min)</th>\n",
       "      <th>Est Dia in Miles(max)</th>\n",
       "      <th>Est Dia in Feet(min)</th>\n",
       "      <th>...</th>\n",
       "      <th>Semi Major Axis</th>\n",
       "      <th>Inclination</th>\n",
       "      <th>Asc Node Longitude</th>\n",
       "      <th>Orbital Period</th>\n",
       "      <th>Perihelion Distance</th>\n",
       "      <th>Perihelion Arg</th>\n",
       "      <th>Aphelion Dist</th>\n",
       "      <th>Perihelion Time</th>\n",
       "      <th>Mean Anomaly</th>\n",
       "      <th>Mean Motion</th>\n",
       "    </tr>\n",
       "  </thead>\n",
       "  <tbody>\n",
       "    <tr>\n",
       "      <th>count</th>\n",
       "      <td>4.687000e+03</td>\n",
       "      <td>4.687000e+03</td>\n",
       "      <td>4687.000000</td>\n",
       "      <td>4687.000000</td>\n",
       "      <td>4687.000000</td>\n",
       "      <td>4687.000000</td>\n",
       "      <td>4687.000000</td>\n",
       "      <td>4687.000000</td>\n",
       "      <td>4687.000000</td>\n",
       "      <td>4687.000000</td>\n",
       "      <td>...</td>\n",
       "      <td>4687.000000</td>\n",
       "      <td>4687.000000</td>\n",
       "      <td>4687.000000</td>\n",
       "      <td>4687.000000</td>\n",
       "      <td>4687.000000</td>\n",
       "      <td>4687.000000</td>\n",
       "      <td>4687.000000</td>\n",
       "      <td>4.687000e+03</td>\n",
       "      <td>4687.000000</td>\n",
       "      <td>4687.000000</td>\n",
       "    </tr>\n",
       "    <tr>\n",
       "      <th>mean</th>\n",
       "      <td>3.272298e+06</td>\n",
       "      <td>3.272298e+06</td>\n",
       "      <td>22.267865</td>\n",
       "      <td>0.204604</td>\n",
       "      <td>0.457509</td>\n",
       "      <td>204.604203</td>\n",
       "      <td>457.508906</td>\n",
       "      <td>0.127135</td>\n",
       "      <td>0.284283</td>\n",
       "      <td>671.273653</td>\n",
       "      <td>...</td>\n",
       "      <td>1.400264</td>\n",
       "      <td>13.373844</td>\n",
       "      <td>172.157275</td>\n",
       "      <td>635.582076</td>\n",
       "      <td>0.813383</td>\n",
       "      <td>183.932151</td>\n",
       "      <td>1.987144</td>\n",
       "      <td>2.457728e+06</td>\n",
       "      <td>181.167927</td>\n",
       "      <td>0.738242</td>\n",
       "    </tr>\n",
       "    <tr>\n",
       "      <th>std</th>\n",
       "      <td>5.486011e+05</td>\n",
       "      <td>5.486011e+05</td>\n",
       "      <td>2.890972</td>\n",
       "      <td>0.369573</td>\n",
       "      <td>0.826391</td>\n",
       "      <td>369.573402</td>\n",
       "      <td>826.391249</td>\n",
       "      <td>0.229642</td>\n",
       "      <td>0.513496</td>\n",
       "      <td>1212.511199</td>\n",
       "      <td>...</td>\n",
       "      <td>0.524154</td>\n",
       "      <td>10.936227</td>\n",
       "      <td>103.276777</td>\n",
       "      <td>370.954727</td>\n",
       "      <td>0.242059</td>\n",
       "      <td>103.513035</td>\n",
       "      <td>0.951519</td>\n",
       "      <td>9.442264e+02</td>\n",
       "      <td>107.501623</td>\n",
       "      <td>0.342627</td>\n",
       "    </tr>\n",
       "    <tr>\n",
       "      <th>min</th>\n",
       "      <td>2.000433e+06</td>\n",
       "      <td>2.000433e+06</td>\n",
       "      <td>11.160000</td>\n",
       "      <td>0.001011</td>\n",
       "      <td>0.002260</td>\n",
       "      <td>1.010543</td>\n",
       "      <td>2.259644</td>\n",
       "      <td>0.000628</td>\n",
       "      <td>0.001404</td>\n",
       "      <td>3.315431</td>\n",
       "      <td>...</td>\n",
       "      <td>0.615920</td>\n",
       "      <td>0.014513</td>\n",
       "      <td>0.001941</td>\n",
       "      <td>176.557161</td>\n",
       "      <td>0.080744</td>\n",
       "      <td>0.006918</td>\n",
       "      <td>0.803765</td>\n",
       "      <td>2.450100e+06</td>\n",
       "      <td>0.003191</td>\n",
       "      <td>0.086285</td>\n",
       "    </tr>\n",
       "    <tr>\n",
       "      <th>25%</th>\n",
       "      <td>3.097594e+06</td>\n",
       "      <td>3.097594e+06</td>\n",
       "      <td>20.100000</td>\n",
       "      <td>0.033462</td>\n",
       "      <td>0.074824</td>\n",
       "      <td>33.462237</td>\n",
       "      <td>74.823838</td>\n",
       "      <td>0.020792</td>\n",
       "      <td>0.046493</td>\n",
       "      <td>109.784247</td>\n",
       "      <td>...</td>\n",
       "      <td>1.000635</td>\n",
       "      <td>4.962341</td>\n",
       "      <td>83.081208</td>\n",
       "      <td>365.605031</td>\n",
       "      <td>0.630834</td>\n",
       "      <td>95.625916</td>\n",
       "      <td>1.266059</td>\n",
       "      <td>2.457815e+06</td>\n",
       "      <td>87.006918</td>\n",
       "      <td>0.453289</td>\n",
       "    </tr>\n",
       "    <tr>\n",
       "      <th>50%</th>\n",
       "      <td>3.514799e+06</td>\n",
       "      <td>3.514799e+06</td>\n",
       "      <td>21.900000</td>\n",
       "      <td>0.110804</td>\n",
       "      <td>0.247765</td>\n",
       "      <td>110.803882</td>\n",
       "      <td>247.765013</td>\n",
       "      <td>0.068850</td>\n",
       "      <td>0.153954</td>\n",
       "      <td>363.529809</td>\n",
       "      <td>...</td>\n",
       "      <td>1.240981</td>\n",
       "      <td>10.311836</td>\n",
       "      <td>172.625393</td>\n",
       "      <td>504.947292</td>\n",
       "      <td>0.833153</td>\n",
       "      <td>189.761641</td>\n",
       "      <td>1.618195</td>\n",
       "      <td>2.457973e+06</td>\n",
       "      <td>185.718889</td>\n",
       "      <td>0.712946</td>\n",
       "    </tr>\n",
       "    <tr>\n",
       "      <th>75%</th>\n",
       "      <td>3.690060e+06</td>\n",
       "      <td>3.690060e+06</td>\n",
       "      <td>24.500000</td>\n",
       "      <td>0.253837</td>\n",
       "      <td>0.567597</td>\n",
       "      <td>253.837029</td>\n",
       "      <td>567.596853</td>\n",
       "      <td>0.157727</td>\n",
       "      <td>0.352688</td>\n",
       "      <td>832.798679</td>\n",
       "      <td>...</td>\n",
       "      <td>1.678364</td>\n",
       "      <td>19.511681</td>\n",
       "      <td>255.026909</td>\n",
       "      <td>794.195972</td>\n",
       "      <td>0.997227</td>\n",
       "      <td>271.777557</td>\n",
       "      <td>2.451171</td>\n",
       "      <td>2.458108e+06</td>\n",
       "      <td>276.531946</td>\n",
       "      <td>0.984669</td>\n",
       "    </tr>\n",
       "    <tr>\n",
       "      <th>max</th>\n",
       "      <td>3.781897e+06</td>\n",
       "      <td>3.781897e+06</td>\n",
       "      <td>32.100000</td>\n",
       "      <td>15.579552</td>\n",
       "      <td>34.836938</td>\n",
       "      <td>15579.552413</td>\n",
       "      <td>34836.938254</td>\n",
       "      <td>9.680682</td>\n",
       "      <td>21.646663</td>\n",
       "      <td>51114.018738</td>\n",
       "      <td>...</td>\n",
       "      <td>5.072008</td>\n",
       "      <td>75.406667</td>\n",
       "      <td>359.905890</td>\n",
       "      <td>4172.231343</td>\n",
       "      <td>1.299832</td>\n",
       "      <td>359.993098</td>\n",
       "      <td>8.983852</td>\n",
       "      <td>2.458839e+06</td>\n",
       "      <td>359.917991</td>\n",
       "      <td>2.039000</td>\n",
       "    </tr>\n",
       "  </tbody>\n",
       "</table>\n",
       "<p>8 rows × 35 columns</p>\n",
       "</div>"
      ],
      "text/plain": [
       "       Neo Reference ID          Name  Absolute Magnitude  Est Dia in KM(min)  \\\n",
       "count      4.687000e+03  4.687000e+03         4687.000000         4687.000000   \n",
       "mean       3.272298e+06  3.272298e+06           22.267865            0.204604   \n",
       "std        5.486011e+05  5.486011e+05            2.890972            0.369573   \n",
       "min        2.000433e+06  2.000433e+06           11.160000            0.001011   \n",
       "25%        3.097594e+06  3.097594e+06           20.100000            0.033462   \n",
       "50%        3.514799e+06  3.514799e+06           21.900000            0.110804   \n",
       "75%        3.690060e+06  3.690060e+06           24.500000            0.253837   \n",
       "max        3.781897e+06  3.781897e+06           32.100000           15.579552   \n",
       "\n",
       "       Est Dia in KM(max)  Est Dia in M(min)  Est Dia in M(max)  \\\n",
       "count         4687.000000        4687.000000        4687.000000   \n",
       "mean             0.457509         204.604203         457.508906   \n",
       "std              0.826391         369.573402         826.391249   \n",
       "min              0.002260           1.010543           2.259644   \n",
       "25%              0.074824          33.462237          74.823838   \n",
       "50%              0.247765         110.803882         247.765013   \n",
       "75%              0.567597         253.837029         567.596853   \n",
       "max             34.836938       15579.552413       34836.938254   \n",
       "\n",
       "       Est Dia in Miles(min)  Est Dia in Miles(max)  Est Dia in Feet(min)  \\\n",
       "count            4687.000000            4687.000000           4687.000000   \n",
       "mean                0.127135               0.284283            671.273653   \n",
       "std                 0.229642               0.513496           1212.511199   \n",
       "min                 0.000628               0.001404              3.315431   \n",
       "25%                 0.020792               0.046493            109.784247   \n",
       "50%                 0.068850               0.153954            363.529809   \n",
       "75%                 0.157727               0.352688            832.798679   \n",
       "max                 9.680682              21.646663          51114.018738   \n",
       "\n",
       "       ...  Semi Major Axis  Inclination  Asc Node Longitude  Orbital Period  \\\n",
       "count  ...      4687.000000  4687.000000         4687.000000     4687.000000   \n",
       "mean   ...         1.400264    13.373844          172.157275      635.582076   \n",
       "std    ...         0.524154    10.936227          103.276777      370.954727   \n",
       "min    ...         0.615920     0.014513            0.001941      176.557161   \n",
       "25%    ...         1.000635     4.962341           83.081208      365.605031   \n",
       "50%    ...         1.240981    10.311836          172.625393      504.947292   \n",
       "75%    ...         1.678364    19.511681          255.026909      794.195972   \n",
       "max    ...         5.072008    75.406667          359.905890     4172.231343   \n",
       "\n",
       "       Perihelion Distance  Perihelion Arg  Aphelion Dist  Perihelion Time  \\\n",
       "count          4687.000000     4687.000000    4687.000000     4.687000e+03   \n",
       "mean              0.813383      183.932151       1.987144     2.457728e+06   \n",
       "std               0.242059      103.513035       0.951519     9.442264e+02   \n",
       "min               0.080744        0.006918       0.803765     2.450100e+06   \n",
       "25%               0.630834       95.625916       1.266059     2.457815e+06   \n",
       "50%               0.833153      189.761641       1.618195     2.457973e+06   \n",
       "75%               0.997227      271.777557       2.451171     2.458108e+06   \n",
       "max               1.299832      359.993098       8.983852     2.458839e+06   \n",
       "\n",
       "       Mean Anomaly  Mean Motion  \n",
       "count   4687.000000  4687.000000  \n",
       "mean     181.167927     0.738242  \n",
       "std      107.501623     0.342627  \n",
       "min        0.003191     0.086285  \n",
       "25%       87.006918     0.453289  \n",
       "50%      185.718889     0.712946  \n",
       "75%      276.531946     0.984669  \n",
       "max      359.917991     2.039000  \n",
       "\n",
       "[8 rows x 35 columns]"
      ]
     },
     "execution_count": 5,
     "metadata": {},
     "output_type": "execute_result"
    }
   ],
   "source": [
    "nasa_data.describe()"
   ]
  },
  {
   "cell_type": "markdown",
   "metadata": {},
   "source": [
    "*** Looks like there are lots of outliers, since there is huge gap between 75 percentile of data and max values. All columns are not having normal distribution since std is more than mean."
   ]
  },
  {
   "cell_type": "code",
   "execution_count": null,
   "metadata": {},
   "outputs": [],
   "source": []
  },
  {
   "cell_type": "markdown",
   "metadata": {},
   "source": [
    "## Performing Feature Engineering and EDA"
   ]
  },
  {
   "cell_type": "code",
   "execution_count": 6,
   "metadata": {},
   "outputs": [
    {
     "data": {
      "text/plain": [
       "<matplotlib.axes._subplots.AxesSubplot at 0xb348ac8>"
      ]
     },
     "execution_count": 6,
     "metadata": {},
     "output_type": "execute_result"
    },
    {
     "data": {
      "image/png": "[encoded data removed]",
      "text/plain": [
       "<Figure size 432x288 with 1 Axes>"
      ]
     },
     "metadata": {
      "needs_background": "light"
     },
     "output_type": "display_data"
    }
   ],
   "source": [
    "sns.countplot(x='Hazardous', data=nasa_data)"
   ]
  },
  {
   "cell_type": "markdown",
   "metadata": {},
   "source": [
    "*** This suggests that most of the asteroids are not hazardous in nature."
   ]
  },
  {
   "cell_type": "markdown",
   "metadata": {},
   "source": [
    "*** We can remove the 4 columns which are not numerical and are not useful in predictions. We usually deal with numerical columns only."
   ]
  },
  {
   "cell_type": "code",
   "execution_count": 7,
   "metadata": {},
   "outputs": [],
   "source": [
    "nasa_data = nasa_data.drop(['Close Approach Date', 'Orbiting Body', 'Orbit Determination Date', 'Equinox'], axis=1)"
   ]
  },
  {
   "cell_type": "markdown",
   "metadata": {},
   "source": [
    "#### Seperate features and labels "
   ]
  },
  {
   "cell_type": "code",
   "execution_count": 8,
   "metadata": {},
   "outputs": [
    {
     "name": "stdout",
     "output_type": "stream",
     "text": [
      "(4687, 35)\n",
      "(4687,)\n"
     ]
    }
   ],
   "source": [
    "x = nasa_data.drop('Hazardous', axis=1) \n",
    "y = nasa_data['Hazardous']\n",
    "print(x.shape)\n",
    "print(y.shape)"
   ]
  },
  {
   "cell_type": "markdown",
   "metadata": {},
   "source": [
    "#### Do scaling using zscore for all features."
   ]
  },
  {
   "cell_type": "code",
   "execution_count": 9,
   "metadata": {},
   "outputs": [
    {
     "name": "stderr",
     "output_type": "stream",
     "text": [
      "C:\\Users\\karthikeya\\Anaconda3\\lib\\site-packages\\sklearn\\preprocessing\\data.py:645: DataConversionWarning: Data with input dtype int64, float64 were all converted to float64 by StandardScaler.\n",
      "  return self.partial_fit(X, y)\n",
      "C:\\Users\\karthikeya\\Anaconda3\\lib\\site-packages\\sklearn\\base.py:464: DataConversionWarning: Data with input dtype int64, float64 were all converted to float64 by StandardScaler.\n",
      "  return self.fit(X, **fit_params).transform(X)\n"
     ]
    }
   ],
   "source": [
    "from sklearn.preprocessing import StandardScaler\n",
    "scaler = StandardScaler()\n",
    "x = scaler.fit_transform(x)"
   ]
  },
  {
   "cell_type": "markdown",
   "metadata": {},
   "source": [
    "#### Prepare the test and train data"
   ]
  },
  {
   "cell_type": "code",
   "execution_count": 10,
   "metadata": {},
   "outputs": [],
   "source": [
    "from sklearn.model_selection import train_test_split\n",
    "x_train,x_test, y_train, y_test = train_test_split(x, y, test_size=0.2, random_state=0)"
   ]
  },
  {
   "cell_type": "markdown",
   "metadata": {},
   "source": [
    "##  Performing classification algorithm on the dataset without PCA "
   ]
  },
  {
   "cell_type": "markdown",
   "metadata": {},
   "source": [
    "*** We will be using logistic regression on the data set for modelling"
   ]
  },
  {
   "cell_type": "code",
   "execution_count": 11,
   "metadata": {},
   "outputs": [
    {
     "name": "stdout",
     "output_type": "stream",
     "text": [
      "Total time without PCA : 0.08700156211853027\n"
     ]
    },
    {
     "name": "stderr",
     "output_type": "stream",
     "text": [
      "C:\\Users\\karthikeya\\Anaconda3\\lib\\site-packages\\sklearn\\linear_model\\logistic.py:433: FutureWarning: Default solver will be changed to 'lbfgs' in 0.22. Specify a solver to silence this warning.\n",
      "  FutureWarning)\n"
     ]
    }
   ],
   "source": [
    "from sklearn.linear_model import LogisticRegression\n",
    "logreg = LogisticRegression()\n",
    "start = time.time()\n",
    "logreg.fit(x_train, y_train)\n",
    "end = time.time()\n",
    "total = end-start\n",
    "print(\"Total time without PCA :\", total)"
   ]
  },
  {
   "cell_type": "markdown",
   "metadata": {},
   "source": [
    "#### Make the prediction using the model "
   ]
  },
  {
   "cell_type": "code",
   "execution_count": 12,
   "metadata": {},
   "outputs": [],
   "source": [
    "y_pred = logreg.predict(x_test)"
   ]
  },
  {
   "cell_type": "markdown",
   "metadata": {},
   "source": [
    "####  Evaluate the model using the metrics. Comparing the actual with the predicted value."
   ]
  },
  {
   "cell_type": "code",
   "execution_count": 13,
   "metadata": {},
   "outputs": [],
   "source": [
    "from sklearn.metrics import accuracy_score, confusion_matrix, classification_report"
   ]
  },
  {
   "cell_type": "code",
   "execution_count": 14,
   "metadata": {},
   "outputs": [
    {
     "name": "stdout",
     "output_type": "stream",
     "text": [
      "0.9669509594882729\n"
     ]
    }
   ],
   "source": [
    "print(accuracy_score(y_test, y_pred))"
   ]
  },
  {
   "cell_type": "code",
   "execution_count": 15,
   "metadata": {},
   "outputs": [
    {
     "name": "stdout",
     "output_type": "stream",
     "text": [
      "[[781  12]\n",
      " [ 19 126]]\n"
     ]
    }
   ],
   "source": [
    "print(confusion_matrix(y_test, y_pred))"
   ]
  },
  {
   "cell_type": "code",
   "execution_count": 16,
   "metadata": {},
   "outputs": [
    {
     "data": {
      "text/plain": [
       "<matplotlib.axes._subplots.AxesSubplot at 0xc6cf630>"
      ]
     },
     "execution_count": 16,
     "metadata": {},
     "output_type": "execute_result"
    },
    {
     "data": {
      "image/png": "[encoded data removed]",
      "text/plain": [
       "<Figure size 432x288 with 2 Axes>"
      ]
     },
     "metadata": {
      "needs_background": "light"
     },
     "output_type": "display_data"
    }
   ],
   "source": [
    "cm = confusion_matrix(y_test, y_pred)\n",
    "sns.heatmap(cm, cmap='viridis', xticklabels=['Prediction NO', 'Prediction Yes'], yticklabels=['Actual NO', 'Actual YES'], annot=True, fmt='d')"
   ]
  },
  {
   "cell_type": "code",
   "execution_count": 17,
   "metadata": {},
   "outputs": [
    {
     "name": "stdout",
     "output_type": "stream",
     "text": [
      "              precision    recall  f1-score   support\n",
      "\n",
      "       False       0.98      0.98      0.98       793\n",
      "        True       0.91      0.87      0.89       145\n",
      "\n",
      "   micro avg       0.97      0.97      0.97       938\n",
      "   macro avg       0.94      0.93      0.94       938\n",
      "weighted avg       0.97      0.97      0.97       938\n",
      "\n"
     ]
    }
   ],
   "source": [
    "print(classification_report(y_test, y_pred))"
   ]
  },
  {
   "cell_type": "code",
   "execution_count": null,
   "metadata": {},
   "outputs": [],
   "source": []
  },
  {
   "cell_type": "markdown",
   "metadata": {},
   "source": [
    "##  Identifying the number of components required to explain 99% of variance"
   ]
  },
  {
   "cell_type": "code",
   "execution_count": 18,
   "metadata": {},
   "outputs": [
    {
     "data": {
      "text/plain": [
       "PCA(copy=True, iterated_power='auto', n_components=None, random_state=None,\n",
       "  svd_solver='auto', tol=0.0, whiten=False)"
      ]
     },
     "execution_count": 18,
     "metadata": {},
     "output_type": "execute_result"
    }
   ],
   "source": [
    "from sklearn.decomposition import PCA\n",
    "pca = PCA()\n",
    "pca.fit(x)\n",
    "# we reduce only no of features, hence only x"
   ]
  },
  {
   "cell_type": "code",
   "execution_count": 19,
   "metadata": {},
   "outputs": [
    {
     "data": {
      "text/plain": [
       "35"
      ]
     },
     "execution_count": 19,
     "metadata": {},
     "output_type": "execute_result"
    }
   ],
   "source": [
    "pca.n_components_"
   ]
  },
  {
   "cell_type": "markdown",
   "metadata": {},
   "source": [
    "#### Plot the cummulative sum to find the appropraite no of components  "
   ]
  },
  {
   "cell_type": "code",
   "execution_count": 20,
   "metadata": {},
   "outputs": [
    {
     "data": {
      "image/png": "[encoded data removed]",
      "text/plain": [
       "<Figure size 432x288 with 1 Axes>"
      ]
     },
     "metadata": {
      "needs_background": "light"
     },
     "output_type": "display_data"
    }
   ],
   "source": [
    "plt.plot(np.cumsum(pca.explained_variance_ratio_))\n",
    "plt.xlabel('No of components')\n",
    "plt.ylabel('Cummulative sum of explained variance')\n",
    "plt.show()"
   ]
  },
  {
   "cell_type": "markdown",
   "metadata": {},
   "source": [
    "*** We can see 16 components are enough to explain the 99% of the data"
   ]
  },
  {
   "cell_type": "markdown",
   "metadata": {},
   "source": [
    "## Performing PCA followed by classification using the previous algorithm and compare the results"
   ]
  },
  {
   "cell_type": "code",
   "execution_count": 21,
   "metadata": {},
   "outputs": [
    {
     "data": {
      "text/plain": [
       "PCA(copy=True, iterated_power='auto', n_components=16, random_state=None,\n",
       "  svd_solver='auto', tol=0.0, whiten=False)"
      ]
     },
     "execution_count": 21,
     "metadata": {},
     "output_type": "execute_result"
    }
   ],
   "source": [
    "x_pca = PCA(n_components = 16)\n",
    "x_pca.fit(x_train)"
   ]
  },
  {
   "cell_type": "code",
   "execution_count": 22,
   "metadata": {},
   "outputs": [],
   "source": [
    "x_train_pca = x_pca.fit_transform(x_train)\n",
    "x_test_pca = x_pca.fit_transform(x_test)"
   ]
  },
  {
   "cell_type": "markdown",
   "metadata": {},
   "source": [
    "*** Compare the shape after the transformation "
   ]
  },
  {
   "cell_type": "code",
   "execution_count": 23,
   "metadata": {},
   "outputs": [
    {
     "name": "stdout",
     "output_type": "stream",
     "text": [
      "(3749, 35)\n",
      "(3749, 16)\n"
     ]
    }
   ],
   "source": [
    "print(x_train.shape)\n",
    "print(x_train_pca.shape)"
   ]
  },
  {
   "cell_type": "code",
   "execution_count": 24,
   "metadata": {},
   "outputs": [
    {
     "name": "stdout",
     "output_type": "stream",
     "text": [
      "(938, 35)\n",
      "(938, 16)\n"
     ]
    }
   ],
   "source": [
    "print(x_test.shape)\n",
    "print(x_test_pca.shape)"
   ]
  },
  {
   "cell_type": "code",
   "execution_count": 25,
   "metadata": {},
   "outputs": [
    {
     "name": "stdout",
     "output_type": "stream",
     "text": [
      "Total time after PCA: 0.040000200271606445\n"
     ]
    },
    {
     "name": "stderr",
     "output_type": "stream",
     "text": [
      "C:\\Users\\karthikeya\\Anaconda3\\lib\\site-packages\\sklearn\\linear_model\\logistic.py:433: FutureWarning: Default solver will be changed to 'lbfgs' in 0.22. Specify a solver to silence this warning.\n",
      "  FutureWarning)\n"
     ]
    }
   ],
   "source": [
    "logreg = LogisticRegression()\n",
    "start = time.time()\n",
    "logreg.fit(x_train_pca, y_train)\n",
    "end = time.time()\n",
    "total = end-start\n",
    "print('Total time after PCA:',total)"
   ]
  },
  {
   "cell_type": "markdown",
   "metadata": {},
   "source": [
    "#### Compare the metrics after the dimension reduction"
   ]
  },
  {
   "cell_type": "code",
   "execution_count": 26,
   "metadata": {},
   "outputs": [],
   "source": [
    "y_pred_pca = logreg.predict(x_test_pca)"
   ]
  },
  {
   "cell_type": "code",
   "execution_count": 27,
   "metadata": {},
   "outputs": [
    {
     "name": "stdout",
     "output_type": "stream",
     "text": [
      "0.7611940298507462\n"
     ]
    }
   ],
   "source": [
    "print(accuracy_score(y_test,y_pred_pca))"
   ]
  },
  {
   "cell_type": "code",
   "execution_count": 28,
   "metadata": {},
   "outputs": [
    {
     "name": "stdout",
     "output_type": "stream",
     "text": [
      "[[675 118]\n",
      " [106  39]]\n"
     ]
    }
   ],
   "source": [
    "print(confusion_matrix(y_test,y_pred_pca))"
   ]
  },
  {
   "cell_type": "code",
   "execution_count": 29,
   "metadata": {},
   "outputs": [
    {
     "name": "stdout",
     "output_type": "stream",
     "text": [
      "              precision    recall  f1-score   support\n",
      "\n",
      "       False       0.86      0.85      0.86       793\n",
      "        True       0.25      0.27      0.26       145\n",
      "\n",
      "   micro avg       0.76      0.76      0.76       938\n",
      "   macro avg       0.56      0.56      0.56       938\n",
      "weighted avg       0.77      0.76      0.77       938\n",
      "\n"
     ]
    }
   ],
   "source": [
    "print(classification_report(y_test,y_pred_pca))"
   ]
  },
  {
   "cell_type": "markdown",
   "metadata": {},
   "source": [
    "*** We can see that time taken has reduced from 0.08 to 0.04 after dimension reduction. Also a good amount of prediction is made to detect asteroids which are not hazardous. i.e false precision and false recall."
   ]
  }
 ],
 "metadata": {
  "anaconda-cloud": {},
  "kernelspec": {
   "display_name": "Python 3",
   "language": "python",
   "name": "python3"
  },
  "language_info": {
   "codemirror_mode": {
    "name": "ipython",
    "version": 3
   },
   "file_extension": ".py",
   "mimetype": "text/x-python",
   "name": "python",
   "nbconvert_exporter": "python",
   "pygments_lexer": "ipython3",
   "version": "3.7.3"
  }
 },
 "nbformat": 4,
 "nbformat_minor": 2
}
