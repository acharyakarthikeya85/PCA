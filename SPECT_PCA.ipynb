{
 "cells": [
  {
   "cell_type": "markdown",
   "metadata": {},
   "source": [
    "#### Import all the packages"
   ]
  },
  {
   "cell_type": "code",
   "execution_count": 1,
   "metadata": {},
   "outputs": [],
   "source": [
    "import numpy as np\n",
    "import pandas as pd\n",
    "import time\n",
    "import random\n",
    "import seaborn as sns\n",
    "import matplotlib.pyplot as plt\n",
    "%matplotlib inline\n",
    "plt.style.use('fivethirtyeight')"
   ]
  },
  {
   "cell_type": "markdown",
   "metadata": {},
   "source": [
    "#### Load the training data"
   ]
  },
  {
   "cell_type": "code",
   "execution_count": 2,
   "metadata": {},
   "outputs": [
    {
     "name": "stdout",
     "output_type": "stream",
     "text": [
      "(80, 45)\n"
     ]
    }
   ],
   "source": [
    "url = 'https://query.data.world/s/ksxft7lhmbxpihskwsngwhpuul6lye'\n",
    "col_names = ['target','F1R', 'F1S', 'F2R', 'F2S', 'F3R', 'F3S', 'F4R', 'F4S', 'F5R','F5S','F6R','F6S','F7R','F7S','F8R','F8S','F9R','F9S','F10R',\n",
    "    'F10S',  'F11R','F11S','F12R','F12S','F13R','F13S','F14R','F14S','F15R','F15S','F16R','F16S','F17R','F17S','F18R','F18S','F19R','F19S',   'F20R',\n",
    "    'F20S','F21R','F21S','F22R','F22S']\n",
    "\n",
    "spec_df = pd.read_csv(url, sep=',', names=col_names)\n",
    "spec_df\n",
    "\n",
    "print(spec_df.shape)"
   ]
  },
  {
   "cell_type": "markdown",
   "metadata": {},
   "source": [
    "#### Load the testing data"
   ]
  },
  {
   "cell_type": "code",
   "execution_count": 3,
   "metadata": {},
   "outputs": [
    {
     "data": {
      "text/plain": [
       "(187, 45)"
      ]
     },
     "execution_count": 3,
     "metadata": {},
     "output_type": "execute_result"
    }
   ],
   "source": [
    "url = 'https://query.data.world/s/cuqtpuoewpxysusrt5z4igihjah4xo'\n",
    "col_names = ['target','F1R', 'F1S', 'F2R', 'F2S', 'F3R', 'F3S', 'F4R', 'F4S', 'F5R','F5S','F6R','F6S','F7R','F7S','F8R','F8S','F9R','F9S','F10R',\n",
    "    'F10S',  'F11R','F11S','F12R','F12S','F13R','F13S','F14R','F14S','F15R','F15S','F16R','F16S','F17R','F17S','F18R','F18S','F19R','F19S',   'F20R',\n",
    "    'F20S','F21R','F21S','F22R','F22S']\n",
    "\n",
    "spec_test_df = pd.read_csv(url, sep=',', names=col_names)\n",
    "spec_test_df.shape"
   ]
  },
  {
   "cell_type": "markdown",
   "metadata": {},
   "source": [
    "#### EDA"
   ]
  },
  {
   "cell_type": "code",
   "execution_count": 4,
   "metadata": {},
   "outputs": [
    {
     "data": {
      "text/html": [
       "<div>\n",
       "<style scoped>\n",
       "    .dataframe tbody tr th:only-of-type {\n",
       "        vertical-align: middle;\n",
       "    }\n",
       "\n",
       "    .dataframe tbody tr th {\n",
       "        vertical-align: top;\n",
       "    }\n",
       "\n",
       "    .dataframe thead th {\n",
       "        text-align: right;\n",
       "    }\n",
       "</style>\n",
       "<table border=\"1\" class=\"dataframe\">\n",
       "  <thead>\n",
       "    <tr style=\"text-align: right;\">\n",
       "      <th></th>\n",
       "      <th>target</th>\n",
       "      <th>F1R</th>\n",
       "      <th>F1S</th>\n",
       "      <th>F2R</th>\n",
       "      <th>F2S</th>\n",
       "      <th>F3R</th>\n",
       "      <th>F3S</th>\n",
       "      <th>F4R</th>\n",
       "      <th>F4S</th>\n",
       "      <th>F5R</th>\n",
       "      <th>...</th>\n",
       "      <th>F18R</th>\n",
       "      <th>F18S</th>\n",
       "      <th>F19R</th>\n",
       "      <th>F19S</th>\n",
       "      <th>F20R</th>\n",
       "      <th>F20S</th>\n",
       "      <th>F21R</th>\n",
       "      <th>F21S</th>\n",
       "      <th>F22R</th>\n",
       "      <th>F22S</th>\n",
       "    </tr>\n",
       "  </thead>\n",
       "  <tbody>\n",
       "    <tr>\n",
       "      <th>0</th>\n",
       "      <td>1</td>\n",
       "      <td>59</td>\n",
       "      <td>52</td>\n",
       "      <td>70</td>\n",
       "      <td>67</td>\n",
       "      <td>73</td>\n",
       "      <td>66</td>\n",
       "      <td>72</td>\n",
       "      <td>61</td>\n",
       "      <td>58</td>\n",
       "      <td>...</td>\n",
       "      <td>66</td>\n",
       "      <td>56</td>\n",
       "      <td>62</td>\n",
       "      <td>56</td>\n",
       "      <td>72</td>\n",
       "      <td>62</td>\n",
       "      <td>74</td>\n",
       "      <td>74</td>\n",
       "      <td>64</td>\n",
       "      <td>67</td>\n",
       "    </tr>\n",
       "    <tr>\n",
       "      <th>1</th>\n",
       "      <td>1</td>\n",
       "      <td>72</td>\n",
       "      <td>62</td>\n",
       "      <td>69</td>\n",
       "      <td>67</td>\n",
       "      <td>78</td>\n",
       "      <td>82</td>\n",
       "      <td>74</td>\n",
       "      <td>65</td>\n",
       "      <td>69</td>\n",
       "      <td>...</td>\n",
       "      <td>65</td>\n",
       "      <td>71</td>\n",
       "      <td>63</td>\n",
       "      <td>60</td>\n",
       "      <td>69</td>\n",
       "      <td>73</td>\n",
       "      <td>67</td>\n",
       "      <td>71</td>\n",
       "      <td>56</td>\n",
       "      <td>58</td>\n",
       "    </tr>\n",
       "    <tr>\n",
       "      <th>2</th>\n",
       "      <td>1</td>\n",
       "      <td>71</td>\n",
       "      <td>62</td>\n",
       "      <td>70</td>\n",
       "      <td>64</td>\n",
       "      <td>67</td>\n",
       "      <td>64</td>\n",
       "      <td>79</td>\n",
       "      <td>65</td>\n",
       "      <td>70</td>\n",
       "      <td>...</td>\n",
       "      <td>73</td>\n",
       "      <td>70</td>\n",
       "      <td>66</td>\n",
       "      <td>65</td>\n",
       "      <td>64</td>\n",
       "      <td>55</td>\n",
       "      <td>61</td>\n",
       "      <td>41</td>\n",
       "      <td>51</td>\n",
       "      <td>46</td>\n",
       "    </tr>\n",
       "    <tr>\n",
       "      <th>3</th>\n",
       "      <td>1</td>\n",
       "      <td>69</td>\n",
       "      <td>71</td>\n",
       "      <td>70</td>\n",
       "      <td>78</td>\n",
       "      <td>61</td>\n",
       "      <td>63</td>\n",
       "      <td>67</td>\n",
       "      <td>65</td>\n",
       "      <td>59</td>\n",
       "      <td>...</td>\n",
       "      <td>61</td>\n",
       "      <td>61</td>\n",
       "      <td>66</td>\n",
       "      <td>65</td>\n",
       "      <td>72</td>\n",
       "      <td>73</td>\n",
       "      <td>68</td>\n",
       "      <td>68</td>\n",
       "      <td>59</td>\n",
       "      <td>63</td>\n",
       "    </tr>\n",
       "    <tr>\n",
       "      <th>4</th>\n",
       "      <td>1</td>\n",
       "      <td>70</td>\n",
       "      <td>66</td>\n",
       "      <td>61</td>\n",
       "      <td>66</td>\n",
       "      <td>61</td>\n",
       "      <td>58</td>\n",
       "      <td>69</td>\n",
       "      <td>69</td>\n",
       "      <td>72</td>\n",
       "      <td>...</td>\n",
       "      <td>67</td>\n",
       "      <td>69</td>\n",
       "      <td>70</td>\n",
       "      <td>66</td>\n",
       "      <td>70</td>\n",
       "      <td>64</td>\n",
       "      <td>60</td>\n",
       "      <td>55</td>\n",
       "      <td>49</td>\n",
       "      <td>41</td>\n",
       "    </tr>\n",
       "  </tbody>\n",
       "</table>\n",
       "<p>5 rows × 45 columns</p>\n",
       "</div>"
      ],
      "text/plain": [
       "   target  F1R  F1S  F2R  F2S  F3R  F3S  F4R  F4S  F5R  ...  F18R  F18S  F19R  \\\n",
       "0       1   59   52   70   67   73   66   72   61   58  ...    66    56    62   \n",
       "1       1   72   62   69   67   78   82   74   65   69  ...    65    71    63   \n",
       "2       1   71   62   70   64   67   64   79   65   70  ...    73    70    66   \n",
       "3       1   69   71   70   78   61   63   67   65   59  ...    61    61    66   \n",
       "4       1   70   66   61   66   61   58   69   69   72  ...    67    69    70   \n",
       "\n",
       "   F19S  F20R  F20S  F21R  F21S  F22R  F22S  \n",
       "0    56    72    62    74    74    64    67  \n",
       "1    60    69    73    67    71    56    58  \n",
       "2    65    64    55    61    41    51    46  \n",
       "3    65    72    73    68    68    59    63  \n",
       "4    66    70    64    60    55    49    41  \n",
       "\n",
       "[5 rows x 45 columns]"
      ]
     },
     "execution_count": 4,
     "metadata": {},
     "output_type": "execute_result"
    }
   ],
   "source": [
    "spec_df.head()"
   ]
  },
  {
   "cell_type": "code",
   "execution_count": 5,
   "metadata": {},
   "outputs": [
    {
     "data": {
      "text/html": [
       "<div>\n",
       "<style scoped>\n",
       "    .dataframe tbody tr th:only-of-type {\n",
       "        vertical-align: middle;\n",
       "    }\n",
       "\n",
       "    .dataframe tbody tr th {\n",
       "        vertical-align: top;\n",
       "    }\n",
       "\n",
       "    .dataframe thead th {\n",
       "        text-align: right;\n",
       "    }\n",
       "</style>\n",
       "<table border=\"1\" class=\"dataframe\">\n",
       "  <thead>\n",
       "    <tr style=\"text-align: right;\">\n",
       "      <th></th>\n",
       "      <th>target</th>\n",
       "      <th>F1R</th>\n",
       "      <th>F1S</th>\n",
       "      <th>F2R</th>\n",
       "      <th>F2S</th>\n",
       "      <th>F3R</th>\n",
       "      <th>F3S</th>\n",
       "      <th>F4R</th>\n",
       "      <th>F4S</th>\n",
       "      <th>F5R</th>\n",
       "      <th>...</th>\n",
       "      <th>F18R</th>\n",
       "      <th>F18S</th>\n",
       "      <th>F19R</th>\n",
       "      <th>F19S</th>\n",
       "      <th>F20R</th>\n",
       "      <th>F20S</th>\n",
       "      <th>F21R</th>\n",
       "      <th>F21S</th>\n",
       "      <th>F22R</th>\n",
       "      <th>F22S</th>\n",
       "    </tr>\n",
       "  </thead>\n",
       "  <tbody>\n",
       "    <tr>\n",
       "      <th>0</th>\n",
       "      <td>1</td>\n",
       "      <td>67</td>\n",
       "      <td>68</td>\n",
       "      <td>73</td>\n",
       "      <td>78</td>\n",
       "      <td>65</td>\n",
       "      <td>63</td>\n",
       "      <td>67</td>\n",
       "      <td>60</td>\n",
       "      <td>63</td>\n",
       "      <td>...</td>\n",
       "      <td>61</td>\n",
       "      <td>56</td>\n",
       "      <td>76</td>\n",
       "      <td>75</td>\n",
       "      <td>74</td>\n",
       "      <td>77</td>\n",
       "      <td>76</td>\n",
       "      <td>74</td>\n",
       "      <td>59</td>\n",
       "      <td>68</td>\n",
       "    </tr>\n",
       "    <tr>\n",
       "      <th>1</th>\n",
       "      <td>1</td>\n",
       "      <td>75</td>\n",
       "      <td>74</td>\n",
       "      <td>71</td>\n",
       "      <td>71</td>\n",
       "      <td>62</td>\n",
       "      <td>58</td>\n",
       "      <td>70</td>\n",
       "      <td>64</td>\n",
       "      <td>71</td>\n",
       "      <td>...</td>\n",
       "      <td>66</td>\n",
       "      <td>62</td>\n",
       "      <td>68</td>\n",
       "      <td>69</td>\n",
       "      <td>69</td>\n",
       "      <td>66</td>\n",
       "      <td>64</td>\n",
       "      <td>58</td>\n",
       "      <td>57</td>\n",
       "      <td>52</td>\n",
       "    </tr>\n",
       "    <tr>\n",
       "      <th>2</th>\n",
       "      <td>1</td>\n",
       "      <td>83</td>\n",
       "      <td>64</td>\n",
       "      <td>66</td>\n",
       "      <td>67</td>\n",
       "      <td>67</td>\n",
       "      <td>74</td>\n",
       "      <td>74</td>\n",
       "      <td>72</td>\n",
       "      <td>64</td>\n",
       "      <td>...</td>\n",
       "      <td>67</td>\n",
       "      <td>64</td>\n",
       "      <td>69</td>\n",
       "      <td>63</td>\n",
       "      <td>68</td>\n",
       "      <td>54</td>\n",
       "      <td>65</td>\n",
       "      <td>64</td>\n",
       "      <td>43</td>\n",
       "      <td>42</td>\n",
       "    </tr>\n",
       "    <tr>\n",
       "      <th>3</th>\n",
       "      <td>1</td>\n",
       "      <td>72</td>\n",
       "      <td>66</td>\n",
       "      <td>65</td>\n",
       "      <td>65</td>\n",
       "      <td>64</td>\n",
       "      <td>61</td>\n",
       "      <td>71</td>\n",
       "      <td>78</td>\n",
       "      <td>73</td>\n",
       "      <td>...</td>\n",
       "      <td>69</td>\n",
       "      <td>68</td>\n",
       "      <td>68</td>\n",
       "      <td>63</td>\n",
       "      <td>71</td>\n",
       "      <td>72</td>\n",
       "      <td>65</td>\n",
       "      <td>63</td>\n",
       "      <td>58</td>\n",
       "      <td>60</td>\n",
       "    </tr>\n",
       "    <tr>\n",
       "      <th>4</th>\n",
       "      <td>1</td>\n",
       "      <td>62</td>\n",
       "      <td>60</td>\n",
       "      <td>69</td>\n",
       "      <td>61</td>\n",
       "      <td>63</td>\n",
       "      <td>63</td>\n",
       "      <td>70</td>\n",
       "      <td>68</td>\n",
       "      <td>70</td>\n",
       "      <td>...</td>\n",
       "      <td>66</td>\n",
       "      <td>66</td>\n",
       "      <td>58</td>\n",
       "      <td>56</td>\n",
       "      <td>72</td>\n",
       "      <td>73</td>\n",
       "      <td>71</td>\n",
       "      <td>64</td>\n",
       "      <td>49</td>\n",
       "      <td>42</td>\n",
       "    </tr>\n",
       "  </tbody>\n",
       "</table>\n",
       "<p>5 rows × 45 columns</p>\n",
       "</div>"
      ],
      "text/plain": [
       "   target  F1R  F1S  F2R  F2S  F3R  F3S  F4R  F4S  F5R  ...  F18R  F18S  F19R  \\\n",
       "0       1   67   68   73   78   65   63   67   60   63  ...    61    56    76   \n",
       "1       1   75   74   71   71   62   58   70   64   71  ...    66    62    68   \n",
       "2       1   83   64   66   67   67   74   74   72   64  ...    67    64    69   \n",
       "3       1   72   66   65   65   64   61   71   78   73  ...    69    68    68   \n",
       "4       1   62   60   69   61   63   63   70   68   70  ...    66    66    58   \n",
       "\n",
       "   F19S  F20R  F20S  F21R  F21S  F22R  F22S  \n",
       "0    75    74    77    76    74    59    68  \n",
       "1    69    69    66    64    58    57    52  \n",
       "2    63    68    54    65    64    43    42  \n",
       "3    63    71    72    65    63    58    60  \n",
       "4    56    72    73    71    64    49    42  \n",
       "\n",
       "[5 rows x 45 columns]"
      ]
     },
     "execution_count": 5,
     "metadata": {},
     "output_type": "execute_result"
    }
   ],
   "source": [
    "spec_test_df.head()"
   ]
  },
  {
   "cell_type": "code",
   "execution_count": 6,
   "metadata": {},
   "outputs": [
    {
     "name": "stdout",
     "output_type": "stream",
     "text": [
      "<class 'pandas.core.frame.DataFrame'>\n",
      "RangeIndex: 80 entries, 0 to 79\n",
      "Data columns (total 45 columns):\n",
      "target    80 non-null int64\n",
      "F1R       80 non-null int64\n",
      "F1S       80 non-null int64\n",
      "F2R       80 non-null int64\n",
      "F2S       80 non-null int64\n",
      "F3R       80 non-null int64\n",
      "F3S       80 non-null int64\n",
      "F4R       80 non-null int64\n",
      "F4S       80 non-null int64\n",
      "F5R       80 non-null int64\n",
      "F5S       80 non-null int64\n",
      "F6R       80 non-null int64\n",
      "F6S       80 non-null int64\n",
      "F7R       80 non-null int64\n",
      "F7S       80 non-null int64\n",
      "F8R       80 non-null int64\n",
      "F8S       80 non-null int64\n",
      "F9R       80 non-null int64\n",
      "F9S       80 non-null int64\n",
      "F10R      80 non-null int64\n",
      "F10S      80 non-null int64\n",
      "F11R      80 non-null int64\n",
      "F11S      80 non-null int64\n",
      "F12R      80 non-null int64\n",
      "F12S      80 non-null int64\n",
      "F13R      80 non-null int64\n",
      "F13S      80 non-null int64\n",
      "F14R      80 non-null int64\n",
      "F14S      80 non-null int64\n",
      "F15R      80 non-null int64\n",
      "F15S      80 non-null int64\n",
      "F16R      80 non-null int64\n",
      "F16S      80 non-null int64\n",
      "F17R      80 non-null int64\n",
      "F17S      80 non-null int64\n",
      "F18R      80 non-null int64\n",
      "F18S      80 non-null int64\n",
      "F19R      80 non-null int64\n",
      "F19S      80 non-null int64\n",
      "F20R      80 non-null int64\n",
      "F20S      80 non-null int64\n",
      "F21R      80 non-null int64\n",
      "F21S      80 non-null int64\n",
      "F22R      80 non-null int64\n",
      "F22S      80 non-null int64\n",
      "dtypes: int64(45)\n",
      "memory usage: 28.2 KB\n"
     ]
    }
   ],
   "source": [
    "spec_df.info()"
   ]
  },
  {
   "cell_type": "code",
   "execution_count": 7,
   "metadata": {},
   "outputs": [
    {
     "name": "stdout",
     "output_type": "stream",
     "text": [
      "<class 'pandas.core.frame.DataFrame'>\n",
      "RangeIndex: 187 entries, 0 to 186\n",
      "Data columns (total 45 columns):\n",
      "target    187 non-null int64\n",
      "F1R       187 non-null int64\n",
      "F1S       187 non-null int64\n",
      "F2R       187 non-null int64\n",
      "F2S       187 non-null int64\n",
      "F3R       187 non-null int64\n",
      "F3S       187 non-null int64\n",
      "F4R       187 non-null int64\n",
      "F4S       187 non-null int64\n",
      "F5R       187 non-null int64\n",
      "F5S       187 non-null int64\n",
      "F6R       187 non-null int64\n",
      "F6S       187 non-null int64\n",
      "F7R       187 non-null int64\n",
      "F7S       187 non-null int64\n",
      "F8R       187 non-null int64\n",
      "F8S       187 non-null int64\n",
      "F9R       187 non-null int64\n",
      "F9S       187 non-null int64\n",
      "F10R      187 non-null int64\n",
      "F10S      187 non-null int64\n",
      "F11R      187 non-null int64\n",
      "F11S      187 non-null int64\n",
      "F12R      187 non-null int64\n",
      "F12S      187 non-null int64\n",
      "F13R      187 non-null int64\n",
      "F13S      187 non-null int64\n",
      "F14R      187 non-null int64\n",
      "F14S      187 non-null int64\n",
      "F15R      187 non-null int64\n",
      "F15S      187 non-null int64\n",
      "F16R      187 non-null int64\n",
      "F16S      187 non-null int64\n",
      "F17R      187 non-null int64\n",
      "F17S      187 non-null int64\n",
      "F18R      187 non-null int64\n",
      "F18S      187 non-null int64\n",
      "F19R      187 non-null int64\n",
      "F19S      187 non-null int64\n",
      "F20R      187 non-null int64\n",
      "F20S      187 non-null int64\n",
      "F21R      187 non-null int64\n",
      "F21S      187 non-null int64\n",
      "F22R      187 non-null int64\n",
      "F22S      187 non-null int64\n",
      "dtypes: int64(45)\n",
      "memory usage: 65.8 KB\n"
     ]
    }
   ],
   "source": [
    "spec_test_df.info()"
   ]
  },
  {
   "cell_type": "markdown",
   "metadata": {},
   "source": [
    "*** There are no missing values and all columns are integers"
   ]
  },
  {
   "cell_type": "code",
   "execution_count": 8,
   "metadata": {},
   "outputs": [
    {
     "data": {
      "text/html": [
       "<div>\n",
       "<style scoped>\n",
       "    .dataframe tbody tr th:only-of-type {\n",
       "        vertical-align: middle;\n",
       "    }\n",
       "\n",
       "    .dataframe tbody tr th {\n",
       "        vertical-align: top;\n",
       "    }\n",
       "\n",
       "    .dataframe thead th {\n",
       "        text-align: right;\n",
       "    }\n",
       "</style>\n",
       "<table border=\"1\" class=\"dataframe\">\n",
       "  <thead>\n",
       "    <tr style=\"text-align: right;\">\n",
       "      <th></th>\n",
       "      <th>target</th>\n",
       "      <th>F1R</th>\n",
       "      <th>F1S</th>\n",
       "      <th>F2R</th>\n",
       "      <th>F2S</th>\n",
       "      <th>F3R</th>\n",
       "      <th>F3S</th>\n",
       "      <th>F4R</th>\n",
       "      <th>F4S</th>\n",
       "      <th>F5R</th>\n",
       "      <th>...</th>\n",
       "      <th>F18R</th>\n",
       "      <th>F18S</th>\n",
       "      <th>F19R</th>\n",
       "      <th>F19S</th>\n",
       "      <th>F20R</th>\n",
       "      <th>F20S</th>\n",
       "      <th>F21R</th>\n",
       "      <th>F21S</th>\n",
       "      <th>F22R</th>\n",
       "      <th>F22S</th>\n",
       "    </tr>\n",
       "  </thead>\n",
       "  <tbody>\n",
       "    <tr>\n",
       "      <th>count</th>\n",
       "      <td>80.000000</td>\n",
       "      <td>80.000000</td>\n",
       "      <td>80.00000</td>\n",
       "      <td>80.000000</td>\n",
       "      <td>80.000000</td>\n",
       "      <td>80.000000</td>\n",
       "      <td>80.000000</td>\n",
       "      <td>80.000000</td>\n",
       "      <td>80.000000</td>\n",
       "      <td>80.000000</td>\n",
       "      <td>...</td>\n",
       "      <td>80.00000</td>\n",
       "      <td>80.000000</td>\n",
       "      <td>80.000000</td>\n",
       "      <td>80.00000</td>\n",
       "      <td>80.000000</td>\n",
       "      <td>80.000000</td>\n",
       "      <td>80.00000</td>\n",
       "      <td>80.000000</td>\n",
       "      <td>80.000000</td>\n",
       "      <td>80.000000</td>\n",
       "    </tr>\n",
       "    <tr>\n",
       "      <th>mean</th>\n",
       "      <td>0.500000</td>\n",
       "      <td>68.650000</td>\n",
       "      <td>67.55000</td>\n",
       "      <td>69.550000</td>\n",
       "      <td>70.850000</td>\n",
       "      <td>67.100000</td>\n",
       "      <td>67.687500</td>\n",
       "      <td>72.075000</td>\n",
       "      <td>71.387500</td>\n",
       "      <td>64.362500</td>\n",
       "      <td>...</td>\n",
       "      <td>65.18750</td>\n",
       "      <td>64.662500</td>\n",
       "      <td>65.612500</td>\n",
       "      <td>65.01250</td>\n",
       "      <td>69.437500</td>\n",
       "      <td>68.412500</td>\n",
       "      <td>66.33750</td>\n",
       "      <td>65.100000</td>\n",
       "      <td>55.975000</td>\n",
       "      <td>55.075000</td>\n",
       "    </tr>\n",
       "    <tr>\n",
       "      <th>std</th>\n",
       "      <td>0.503155</td>\n",
       "      <td>5.594075</td>\n",
       "      <td>6.88403</td>\n",
       "      <td>5.901941</td>\n",
       "      <td>6.326757</td>\n",
       "      <td>6.251278</td>\n",
       "      <td>6.622925</td>\n",
       "      <td>4.090047</td>\n",
       "      <td>5.715831</td>\n",
       "      <td>7.425996</td>\n",
       "      <td>...</td>\n",
       "      <td>5.71273</td>\n",
       "      <td>7.538834</td>\n",
       "      <td>7.694308</td>\n",
       "      <td>9.44336</td>\n",
       "      <td>7.809186</td>\n",
       "      <td>8.582723</td>\n",
       "      <td>10.62591</td>\n",
       "      <td>11.345662</td>\n",
       "      <td>10.779698</td>\n",
       "      <td>12.119422</td>\n",
       "    </tr>\n",
       "    <tr>\n",
       "      <th>min</th>\n",
       "      <td>0.000000</td>\n",
       "      <td>57.000000</td>\n",
       "      <td>51.00000</td>\n",
       "      <td>52.000000</td>\n",
       "      <td>51.000000</td>\n",
       "      <td>47.000000</td>\n",
       "      <td>46.000000</td>\n",
       "      <td>63.000000</td>\n",
       "      <td>56.000000</td>\n",
       "      <td>26.000000</td>\n",
       "      <td>...</td>\n",
       "      <td>31.00000</td>\n",
       "      <td>13.000000</td>\n",
       "      <td>33.000000</td>\n",
       "      <td>23.00000</td>\n",
       "      <td>31.000000</td>\n",
       "      <td>30.000000</td>\n",
       "      <td>31.00000</td>\n",
       "      <td>30.000000</td>\n",
       "      <td>11.000000</td>\n",
       "      <td>11.000000</td>\n",
       "    </tr>\n",
       "    <tr>\n",
       "      <th>25%</th>\n",
       "      <td>0.000000</td>\n",
       "      <td>64.750000</td>\n",
       "      <td>64.00000</td>\n",
       "      <td>66.000000</td>\n",
       "      <td>67.000000</td>\n",
       "      <td>63.750000</td>\n",
       "      <td>63.750000</td>\n",
       "      <td>68.750000</td>\n",
       "      <td>69.000000</td>\n",
       "      <td>61.000000</td>\n",
       "      <td>...</td>\n",
       "      <td>63.00000</td>\n",
       "      <td>63.000000</td>\n",
       "      <td>62.750000</td>\n",
       "      <td>62.00000</td>\n",
       "      <td>65.000000</td>\n",
       "      <td>65.000000</td>\n",
       "      <td>64.00000</td>\n",
       "      <td>63.000000</td>\n",
       "      <td>53.000000</td>\n",
       "      <td>52.750000</td>\n",
       "    </tr>\n",
       "    <tr>\n",
       "      <th>50%</th>\n",
       "      <td>0.500000</td>\n",
       "      <td>69.000000</td>\n",
       "      <td>67.00000</td>\n",
       "      <td>70.000000</td>\n",
       "      <td>72.000000</td>\n",
       "      <td>68.000000</td>\n",
       "      <td>68.500000</td>\n",
       "      <td>72.500000</td>\n",
       "      <td>72.000000</td>\n",
       "      <td>65.000000</td>\n",
       "      <td>...</td>\n",
       "      <td>66.00000</td>\n",
       "      <td>65.500000</td>\n",
       "      <td>66.000000</td>\n",
       "      <td>66.50000</td>\n",
       "      <td>70.500000</td>\n",
       "      <td>71.000000</td>\n",
       "      <td>69.00000</td>\n",
       "      <td>68.000000</td>\n",
       "      <td>59.000000</td>\n",
       "      <td>58.000000</td>\n",
       "    </tr>\n",
       "    <tr>\n",
       "      <th>75%</th>\n",
       "      <td>1.000000</td>\n",
       "      <td>72.000000</td>\n",
       "      <td>73.00000</td>\n",
       "      <td>74.000000</td>\n",
       "      <td>75.250000</td>\n",
       "      <td>71.000000</td>\n",
       "      <td>71.250000</td>\n",
       "      <td>75.000000</td>\n",
       "      <td>75.000000</td>\n",
       "      <td>68.250000</td>\n",
       "      <td>...</td>\n",
       "      <td>68.00000</td>\n",
       "      <td>69.000000</td>\n",
       "      <td>71.000000</td>\n",
       "      <td>71.00000</td>\n",
       "      <td>74.000000</td>\n",
       "      <td>74.000000</td>\n",
       "      <td>73.25000</td>\n",
       "      <td>71.000000</td>\n",
       "      <td>63.000000</td>\n",
       "      <td>63.000000</td>\n",
       "    </tr>\n",
       "    <tr>\n",
       "      <th>max</th>\n",
       "      <td>1.000000</td>\n",
       "      <td>80.000000</td>\n",
       "      <td>81.00000</td>\n",
       "      <td>82.000000</td>\n",
       "      <td>84.000000</td>\n",
       "      <td>78.000000</td>\n",
       "      <td>89.000000</td>\n",
       "      <td>79.000000</td>\n",
       "      <td>83.000000</td>\n",
       "      <td>77.000000</td>\n",
       "      <td>...</td>\n",
       "      <td>73.00000</td>\n",
       "      <td>73.000000</td>\n",
       "      <td>77.000000</td>\n",
       "      <td>77.00000</td>\n",
       "      <td>83.000000</td>\n",
       "      <td>80.000000</td>\n",
       "      <td>79.00000</td>\n",
       "      <td>83.000000</td>\n",
       "      <td>71.000000</td>\n",
       "      <td>73.000000</td>\n",
       "    </tr>\n",
       "  </tbody>\n",
       "</table>\n",
       "<p>8 rows × 45 columns</p>\n",
       "</div>"
      ],
      "text/plain": [
       "          target        F1R       F1S        F2R        F2S        F3R  \\\n",
       "count  80.000000  80.000000  80.00000  80.000000  80.000000  80.000000   \n",
       "mean    0.500000  68.650000  67.55000  69.550000  70.850000  67.100000   \n",
       "std     0.503155   5.594075   6.88403   5.901941   6.326757   6.251278   \n",
       "min     0.000000  57.000000  51.00000  52.000000  51.000000  47.000000   \n",
       "25%     0.000000  64.750000  64.00000  66.000000  67.000000  63.750000   \n",
       "50%     0.500000  69.000000  67.00000  70.000000  72.000000  68.000000   \n",
       "75%     1.000000  72.000000  73.00000  74.000000  75.250000  71.000000   \n",
       "max     1.000000  80.000000  81.00000  82.000000  84.000000  78.000000   \n",
       "\n",
       "             F3S        F4R        F4S        F5R  ...      F18R       F18S  \\\n",
       "count  80.000000  80.000000  80.000000  80.000000  ...  80.00000  80.000000   \n",
       "mean   67.687500  72.075000  71.387500  64.362500  ...  65.18750  64.662500   \n",
       "std     6.622925   4.090047   5.715831   7.425996  ...   5.71273   7.538834   \n",
       "min    46.000000  63.000000  56.000000  26.000000  ...  31.00000  13.000000   \n",
       "25%    63.750000  68.750000  69.000000  61.000000  ...  63.00000  63.000000   \n",
       "50%    68.500000  72.500000  72.000000  65.000000  ...  66.00000  65.500000   \n",
       "75%    71.250000  75.000000  75.000000  68.250000  ...  68.00000  69.000000   \n",
       "max    89.000000  79.000000  83.000000  77.000000  ...  73.00000  73.000000   \n",
       "\n",
       "            F19R      F19S       F20R       F20S      F21R       F21S  \\\n",
       "count  80.000000  80.00000  80.000000  80.000000  80.00000  80.000000   \n",
       "mean   65.612500  65.01250  69.437500  68.412500  66.33750  65.100000   \n",
       "std     7.694308   9.44336   7.809186   8.582723  10.62591  11.345662   \n",
       "min    33.000000  23.00000  31.000000  30.000000  31.00000  30.000000   \n",
       "25%    62.750000  62.00000  65.000000  65.000000  64.00000  63.000000   \n",
       "50%    66.000000  66.50000  70.500000  71.000000  69.00000  68.000000   \n",
       "75%    71.000000  71.00000  74.000000  74.000000  73.25000  71.000000   \n",
       "max    77.000000  77.00000  83.000000  80.000000  79.00000  83.000000   \n",
       "\n",
       "            F22R       F22S  \n",
       "count  80.000000  80.000000  \n",
       "mean   55.975000  55.075000  \n",
       "std    10.779698  12.119422  \n",
       "min    11.000000  11.000000  \n",
       "25%    53.000000  52.750000  \n",
       "50%    59.000000  58.000000  \n",
       "75%    63.000000  63.000000  \n",
       "max    71.000000  73.000000  \n",
       "\n",
       "[8 rows x 45 columns]"
      ]
     },
     "execution_count": 8,
     "metadata": {},
     "output_type": "execute_result"
    }
   ],
   "source": [
    "spec_df.describe()"
   ]
  },
  {
   "cell_type": "code",
   "execution_count": 9,
   "metadata": {},
   "outputs": [
    {
     "data": {
      "text/html": [
       "<div>\n",
       "<style scoped>\n",
       "    .dataframe tbody tr th:only-of-type {\n",
       "        vertical-align: middle;\n",
       "    }\n",
       "\n",
       "    .dataframe tbody tr th {\n",
       "        vertical-align: top;\n",
       "    }\n",
       "\n",
       "    .dataframe thead th {\n",
       "        text-align: right;\n",
       "    }\n",
       "</style>\n",
       "<table border=\"1\" class=\"dataframe\">\n",
       "  <thead>\n",
       "    <tr style=\"text-align: right;\">\n",
       "      <th></th>\n",
       "      <th>target</th>\n",
       "      <th>F1R</th>\n",
       "      <th>F1S</th>\n",
       "      <th>F2R</th>\n",
       "      <th>F2S</th>\n",
       "      <th>F3R</th>\n",
       "      <th>F3S</th>\n",
       "      <th>F4R</th>\n",
       "      <th>F4S</th>\n",
       "      <th>F5R</th>\n",
       "      <th>...</th>\n",
       "      <th>F18R</th>\n",
       "      <th>F18S</th>\n",
       "      <th>F19R</th>\n",
       "      <th>F19S</th>\n",
       "      <th>F20R</th>\n",
       "      <th>F20S</th>\n",
       "      <th>F21R</th>\n",
       "      <th>F21S</th>\n",
       "      <th>F22R</th>\n",
       "      <th>F22S</th>\n",
       "    </tr>\n",
       "  </thead>\n",
       "  <tbody>\n",
       "    <tr>\n",
       "      <th>count</th>\n",
       "      <td>187.000000</td>\n",
       "      <td>187.000000</td>\n",
       "      <td>187.000000</td>\n",
       "      <td>187.000000</td>\n",
       "      <td>187.000000</td>\n",
       "      <td>187.000000</td>\n",
       "      <td>187.000000</td>\n",
       "      <td>187.000000</td>\n",
       "      <td>187.000000</td>\n",
       "      <td>187.000000</td>\n",
       "      <td>...</td>\n",
       "      <td>187.000000</td>\n",
       "      <td>187.000000</td>\n",
       "      <td>187.000000</td>\n",
       "      <td>187.000000</td>\n",
       "      <td>187.000000</td>\n",
       "      <td>187.000000</td>\n",
       "      <td>187.000000</td>\n",
       "      <td>187.000000</td>\n",
       "      <td>187.000000</td>\n",
       "      <td>187.000000</td>\n",
       "    </tr>\n",
       "    <tr>\n",
       "      <th>mean</th>\n",
       "      <td>0.919786</td>\n",
       "      <td>65.128342</td>\n",
       "      <td>63.786096</td>\n",
       "      <td>68.304813</td>\n",
       "      <td>68.320856</td>\n",
       "      <td>63.818182</td>\n",
       "      <td>62.374332</td>\n",
       "      <td>69.352941</td>\n",
       "      <td>68.534759</td>\n",
       "      <td>62.839572</td>\n",
       "      <td>...</td>\n",
       "      <td>63.358289</td>\n",
       "      <td>61.695187</td>\n",
       "      <td>65.090909</td>\n",
       "      <td>63.850267</td>\n",
       "      <td>64.390374</td>\n",
       "      <td>62.187166</td>\n",
       "      <td>60.770053</td>\n",
       "      <td>58.406417</td>\n",
       "      <td>51.128342</td>\n",
       "      <td>48.593583</td>\n",
       "    </tr>\n",
       "    <tr>\n",
       "      <th>std</th>\n",
       "      <td>0.272353</td>\n",
       "      <td>8.961963</td>\n",
       "      <td>10.157746</td>\n",
       "      <td>6.849231</td>\n",
       "      <td>9.046697</td>\n",
       "      <td>9.569165</td>\n",
       "      <td>10.069062</td>\n",
       "      <td>9.513631</td>\n",
       "      <td>10.614082</td>\n",
       "      <td>9.604879</td>\n",
       "      <td>...</td>\n",
       "      <td>8.673589</td>\n",
       "      <td>12.025874</td>\n",
       "      <td>7.980977</td>\n",
       "      <td>9.171545</td>\n",
       "      <td>13.241857</td>\n",
       "      <td>13.691778</td>\n",
       "      <td>15.516746</td>\n",
       "      <td>16.194568</td>\n",
       "      <td>13.350712</td>\n",
       "      <td>15.087756</td>\n",
       "    </tr>\n",
       "    <tr>\n",
       "      <th>min</th>\n",
       "      <td>0.000000</td>\n",
       "      <td>23.000000</td>\n",
       "      <td>21.000000</td>\n",
       "      <td>38.000000</td>\n",
       "      <td>34.000000</td>\n",
       "      <td>21.000000</td>\n",
       "      <td>25.000000</td>\n",
       "      <td>21.000000</td>\n",
       "      <td>20.000000</td>\n",
       "      <td>12.000000</td>\n",
       "      <td>...</td>\n",
       "      <td>18.000000</td>\n",
       "      <td>14.000000</td>\n",
       "      <td>33.000000</td>\n",
       "      <td>18.000000</td>\n",
       "      <td>11.000000</td>\n",
       "      <td>6.000000</td>\n",
       "      <td>5.000000</td>\n",
       "      <td>8.000000</td>\n",
       "      <td>13.000000</td>\n",
       "      <td>4.000000</td>\n",
       "    </tr>\n",
       "    <tr>\n",
       "      <th>25%</th>\n",
       "      <td>1.000000</td>\n",
       "      <td>61.000000</td>\n",
       "      <td>58.500000</td>\n",
       "      <td>64.000000</td>\n",
       "      <td>65.000000</td>\n",
       "      <td>60.000000</td>\n",
       "      <td>59.000000</td>\n",
       "      <td>67.000000</td>\n",
       "      <td>66.000000</td>\n",
       "      <td>60.500000</td>\n",
       "      <td>...</td>\n",
       "      <td>61.500000</td>\n",
       "      <td>60.000000</td>\n",
       "      <td>60.500000</td>\n",
       "      <td>59.000000</td>\n",
       "      <td>61.000000</td>\n",
       "      <td>58.000000</td>\n",
       "      <td>55.500000</td>\n",
       "      <td>53.500000</td>\n",
       "      <td>44.000000</td>\n",
       "      <td>42.000000</td>\n",
       "    </tr>\n",
       "    <tr>\n",
       "      <th>50%</th>\n",
       "      <td>1.000000</td>\n",
       "      <td>66.000000</td>\n",
       "      <td>65.000000</td>\n",
       "      <td>69.000000</td>\n",
       "      <td>70.000000</td>\n",
       "      <td>65.000000</td>\n",
       "      <td>64.000000</td>\n",
       "      <td>71.000000</td>\n",
       "      <td>71.000000</td>\n",
       "      <td>65.000000</td>\n",
       "      <td>...</td>\n",
       "      <td>66.000000</td>\n",
       "      <td>65.000000</td>\n",
       "      <td>66.000000</td>\n",
       "      <td>66.000000</td>\n",
       "      <td>68.000000</td>\n",
       "      <td>66.000000</td>\n",
       "      <td>66.000000</td>\n",
       "      <td>63.000000</td>\n",
       "      <td>55.000000</td>\n",
       "      <td>52.000000</td>\n",
       "    </tr>\n",
       "    <tr>\n",
       "      <th>75%</th>\n",
       "      <td>1.000000</td>\n",
       "      <td>71.000000</td>\n",
       "      <td>70.000000</td>\n",
       "      <td>73.000000</td>\n",
       "      <td>74.000000</td>\n",
       "      <td>70.000000</td>\n",
       "      <td>69.000000</td>\n",
       "      <td>75.000000</td>\n",
       "      <td>75.000000</td>\n",
       "      <td>68.000000</td>\n",
       "      <td>...</td>\n",
       "      <td>69.000000</td>\n",
       "      <td>69.000000</td>\n",
       "      <td>70.000000</td>\n",
       "      <td>70.000000</td>\n",
       "      <td>73.000000</td>\n",
       "      <td>71.000000</td>\n",
       "      <td>72.000000</td>\n",
       "      <td>69.000000</td>\n",
       "      <td>60.000000</td>\n",
       "      <td>60.000000</td>\n",
       "    </tr>\n",
       "    <tr>\n",
       "      <th>max</th>\n",
       "      <td>1.000000</td>\n",
       "      <td>83.000000</td>\n",
       "      <td>80.000000</td>\n",
       "      <td>82.000000</td>\n",
       "      <td>84.000000</td>\n",
       "      <td>82.000000</td>\n",
       "      <td>79.000000</td>\n",
       "      <td>85.000000</td>\n",
       "      <td>81.000000</td>\n",
       "      <td>76.000000</td>\n",
       "      <td>...</td>\n",
       "      <td>76.000000</td>\n",
       "      <td>77.000000</td>\n",
       "      <td>80.000000</td>\n",
       "      <td>79.000000</td>\n",
       "      <td>81.000000</td>\n",
       "      <td>81.000000</td>\n",
       "      <td>82.000000</td>\n",
       "      <td>82.000000</td>\n",
       "      <td>82.000000</td>\n",
       "      <td>71.000000</td>\n",
       "    </tr>\n",
       "  </tbody>\n",
       "</table>\n",
       "<p>8 rows × 45 columns</p>\n",
       "</div>"
      ],
      "text/plain": [
       "           target         F1R         F1S         F2R         F2S         F3R  \\\n",
       "count  187.000000  187.000000  187.000000  187.000000  187.000000  187.000000   \n",
       "mean     0.919786   65.128342   63.786096   68.304813   68.320856   63.818182   \n",
       "std      0.272353    8.961963   10.157746    6.849231    9.046697    9.569165   \n",
       "min      0.000000   23.000000   21.000000   38.000000   34.000000   21.000000   \n",
       "25%      1.000000   61.000000   58.500000   64.000000   65.000000   60.000000   \n",
       "50%      1.000000   66.000000   65.000000   69.000000   70.000000   65.000000   \n",
       "75%      1.000000   71.000000   70.000000   73.000000   74.000000   70.000000   \n",
       "max      1.000000   83.000000   80.000000   82.000000   84.000000   82.000000   \n",
       "\n",
       "              F3S         F4R         F4S         F5R  ...        F18R  \\\n",
       "count  187.000000  187.000000  187.000000  187.000000  ...  187.000000   \n",
       "mean    62.374332   69.352941   68.534759   62.839572  ...   63.358289   \n",
       "std     10.069062    9.513631   10.614082    9.604879  ...    8.673589   \n",
       "min     25.000000   21.000000   20.000000   12.000000  ...   18.000000   \n",
       "25%     59.000000   67.000000   66.000000   60.500000  ...   61.500000   \n",
       "50%     64.000000   71.000000   71.000000   65.000000  ...   66.000000   \n",
       "75%     69.000000   75.000000   75.000000   68.000000  ...   69.000000   \n",
       "max     79.000000   85.000000   81.000000   76.000000  ...   76.000000   \n",
       "\n",
       "             F18S        F19R        F19S        F20R        F20S        F21R  \\\n",
       "count  187.000000  187.000000  187.000000  187.000000  187.000000  187.000000   \n",
       "mean    61.695187   65.090909   63.850267   64.390374   62.187166   60.770053   \n",
       "std     12.025874    7.980977    9.171545   13.241857   13.691778   15.516746   \n",
       "min     14.000000   33.000000   18.000000   11.000000    6.000000    5.000000   \n",
       "25%     60.000000   60.500000   59.000000   61.000000   58.000000   55.500000   \n",
       "50%     65.000000   66.000000   66.000000   68.000000   66.000000   66.000000   \n",
       "75%     69.000000   70.000000   70.000000   73.000000   71.000000   72.000000   \n",
       "max     77.000000   80.000000   79.000000   81.000000   81.000000   82.000000   \n",
       "\n",
       "             F21S        F22R        F22S  \n",
       "count  187.000000  187.000000  187.000000  \n",
       "mean    58.406417   51.128342   48.593583  \n",
       "std     16.194568   13.350712   15.087756  \n",
       "min      8.000000   13.000000    4.000000  \n",
       "25%     53.500000   44.000000   42.000000  \n",
       "50%     63.000000   55.000000   52.000000  \n",
       "75%     69.000000   60.000000   60.000000  \n",
       "max     82.000000   82.000000   71.000000  \n",
       "\n",
       "[8 rows x 45 columns]"
      ]
     },
     "execution_count": 9,
     "metadata": {},
     "output_type": "execute_result"
    }
   ],
   "source": [
    "spec_test_df.describe()"
   ]
  },
  {
   "cell_type": "markdown",
   "metadata": {},
   "source": [
    "*** To check the normal & abnormal patients in the training and testing data plot them using seaborn"
   ]
  },
  {
   "cell_type": "code",
   "execution_count": 10,
   "metadata": {
    "scrolled": true
   },
   "outputs": [
    {
     "data": {
      "text/plain": [
       "<matplotlib.axes._subplots.AxesSubplot at 0xb6825f8>"
      ]
     },
     "execution_count": 10,
     "metadata": {},
     "output_type": "execute_result"
    },
    {
     "data": {
      "image/png": "[encoded data removed]",
      "text/plain": [
       "<Figure size 432x288 with 1 Axes>"
      ]
     },
     "metadata": {
      "needs_background": "light"
     },
     "output_type": "display_data"
    }
   ],
   "source": [
    "sns.countplot(x='target', data=spec_df)\n",
    "# Equal count here"
   ]
  },
  {
   "cell_type": "code",
   "execution_count": 11,
   "metadata": {},
   "outputs": [
    {
     "data": {
      "text/plain": [
       "<matplotlib.axes._subplots.AxesSubplot at 0xb682c18>"
      ]
     },
     "execution_count": 11,
     "metadata": {},
     "output_type": "execute_result"
    },
    {
     "data": {
      "image/png": "[encoded data removed]",
      "text/plain": [
       "<Figure size 432x288 with 1 Axes>"
      ]
     },
     "metadata": {
      "needs_background": "light"
     },
     "output_type": "display_data"
    }
   ],
   "source": [
    "sns.countplot(x='target', data=spec_test_df)\n",
    "# 0 meaning abnormal and 1 means normal. Most of them spect images are normal"
   ]
  },
  {
   "cell_type": "markdown",
   "metadata": {},
   "source": [
    "*** Check correlation between all the X's(all features)"
   ]
  },
  {
   "cell_type": "code",
   "execution_count": 12,
   "metadata": {},
   "outputs": [
    {
     "data": {
      "text/plain": [
       "<matplotlib.axes._subplots.AxesSubplot at 0xb7897f0>"
      ]
     },
     "execution_count": 12,
     "metadata": {},
     "output_type": "execute_result"
    },
    {
     "data": {
      "image/png": "[encoded data removed]",
      "text/plain": [
       "<Figure size 2160x2160 with 2 Axes>"
      ]
     },
     "metadata": {
      "needs_background": "light"
     },
     "output_type": "display_data"
    }
   ],
   "source": [
    "corr = spec_df.corr()\n",
    "plt.figure(figsize=(30,30))\n",
    "sns.heatmap(corr, square=True, cmap='viridis')"
   ]
  },
  {
   "cell_type": "markdown",
   "metadata": {},
   "source": [
    "*** Visually not good. Since there are too many columns and there is no corrleation between many columns."
   ]
  },
  {
   "cell_type": "markdown",
   "metadata": {},
   "source": [
    "*** Drawing the histogram to check distribution of the data"
   ]
  },
  {
   "cell_type": "code",
   "execution_count": 13,
   "metadata": {},
   "outputs": [
    {
     "data": {
      "image/png": "[encoded data removed]",
      "text/plain": [
       "<Figure size 1080x2160 with 50 Axes>"
      ]
     },
     "metadata": {
      "needs_background": "light"
     },
     "output_type": "display_data"
    }
   ],
   "source": [
    "spec_df.hist(bins=10, figsize=(15,30), layout=(10,5))\n",
    "plt.show()"
   ]
  },
  {
   "cell_type": "markdown",
   "metadata": {},
   "source": [
    "*** Most of the distribution is normal distribution"
   ]
  },
  {
   "cell_type": "markdown",
   "metadata": {},
   "source": [
    "#### Split the data into features and labels "
   ]
  },
  {
   "cell_type": "code",
   "execution_count": 14,
   "metadata": {},
   "outputs": [
    {
     "data": {
      "text/plain": [
       "(80, 44)"
      ]
     },
     "execution_count": 14,
     "metadata": {},
     "output_type": "execute_result"
    }
   ],
   "source": [
    "target = spec_df['target']\n",
    "spec_df.drop('target', axis=1, inplace=True)\n",
    "spec_df.shape"
   ]
  },
  {
   "cell_type": "code",
   "execution_count": 15,
   "metadata": {},
   "outputs": [
    {
     "data": {
      "text/plain": [
       "(187, 44)"
      ]
     },
     "execution_count": 15,
     "metadata": {},
     "output_type": "execute_result"
    }
   ],
   "source": [
    "target_test = spec_test_df['target']\n",
    "spec_test_df.drop('target', axis=1, inplace=True)\n",
    "spec_test_df.shape"
   ]
  },
  {
   "cell_type": "markdown",
   "metadata": {},
   "source": [
    "#### Normalizing the data using z-score"
   ]
  },
  {
   "cell_type": "markdown",
   "metadata": {},
   "source": [
    "*** Scaling is important because all the columns are in different ranges(scales)"
   ]
  },
  {
   "cell_type": "code",
   "execution_count": 16,
   "metadata": {},
   "outputs": [
    {
     "name": "stderr",
     "output_type": "stream",
     "text": [
      "C:\\Users\\karthikeya\\Anaconda3\\lib\\site-packages\\sklearn\\preprocessing\\data.py:645: DataConversionWarning: Data with input dtype int64 were all converted to float64 by StandardScaler.\n",
      "  return self.partial_fit(X, y)\n",
      "C:\\Users\\karthikeya\\Anaconda3\\lib\\site-packages\\sklearn\\base.py:464: DataConversionWarning: Data with input dtype int64 were all converted to float64 by StandardScaler.\n",
      "  return self.fit(X, **fit_params).transform(X)\n",
      "C:\\Users\\karthikeya\\Anaconda3\\lib\\site-packages\\sklearn\\preprocessing\\data.py:645: DataConversionWarning: Data with input dtype int64 were all converted to float64 by StandardScaler.\n",
      "  return self.partial_fit(X, y)\n",
      "C:\\Users\\karthikeya\\Anaconda3\\lib\\site-packages\\sklearn\\base.py:464: DataConversionWarning: Data with input dtype int64 were all converted to float64 by StandardScaler.\n",
      "  return self.fit(X, **fit_params).transform(X)\n"
     ]
    }
   ],
   "source": [
    "from sklearn.preprocessing import StandardScaler\n",
    "scalar = StandardScaler()\n",
    "spec_df = scalar.fit_transform(spec_df)\n",
    "spec_test_df = scalar.fit_transform(spec_test_df)"
   ]
  },
  {
   "cell_type": "markdown",
   "metadata": {},
   "source": [
    "*** After scaling 99% of the values lie between -3SD and +3SD."
   ]
  },
  {
   "cell_type": "code",
   "execution_count": 17,
   "metadata": {},
   "outputs": [
    {
     "data": {
      "image/png": "[encoded data removed]",
      "text/plain": [
       "<Figure size 1080x2160 with 50 Axes>"
      ]
     },
     "metadata": {
      "needs_background": "light"
     },
     "output_type": "display_data"
    }
   ],
   "source": [
    "spec_df = pd.DataFrame(spec_df)\n",
    "spec_df.hist(bins=10, figsize=(15,30), layout=(10,5))\n",
    "plt.show()"
   ]
  },
  {
   "cell_type": "markdown",
   "metadata": {},
   "source": [
    "####  Time taken to build a logistic model without PCA"
   ]
  },
  {
   "cell_type": "code",
   "execution_count": 18,
   "metadata": {},
   "outputs": [
    {
     "name": "stdout",
     "output_type": "stream",
     "text": [
      "Logreg without PCA : 0.008000612258911133\n"
     ]
    },
    {
     "name": "stderr",
     "output_type": "stream",
     "text": [
      "C:\\Users\\karthikeya\\Anaconda3\\lib\\site-packages\\sklearn\\linear_model\\logistic.py:433: FutureWarning: Default solver will be changed to 'lbfgs' in 0.22. Specify a solver to silence this warning.\n",
      "  FutureWarning)\n"
     ]
    }
   ],
   "source": [
    "from sklearn.linear_model import LogisticRegression\n",
    "logreg = LogisticRegression()\n",
    "start = time.time()\n",
    "logreg.fit(spec_df, target)\n",
    "end = time.time()\n",
    "training_time = end-start\n",
    "print('Logreg without PCA :', training_time)"
   ]
  },
  {
   "cell_type": "markdown",
   "metadata": {},
   "source": [
    "#### Make prediction using test data"
   ]
  },
  {
   "cell_type": "code",
   "execution_count": 19,
   "metadata": {},
   "outputs": [],
   "source": [
    "y_pred_test = logreg.predict(spec_test_df)"
   ]
  },
  {
   "cell_type": "markdown",
   "metadata": {},
   "source": [
    "#### Evaluate the model using metrics"
   ]
  },
  {
   "cell_type": "code",
   "execution_count": 21,
   "metadata": {},
   "outputs": [
    {
     "name": "stdout",
     "output_type": "stream",
     "text": [
      "0.5240641711229946\n",
      "[[13  2]\n",
      " [87 85]]\n",
      "              precision    recall  f1-score   support\n",
      "\n",
      "           0       0.13      0.87      0.23        15\n",
      "           1       0.98      0.49      0.66       172\n",
      "\n",
      "   micro avg       0.52      0.52      0.52       187\n",
      "   macro avg       0.55      0.68      0.44       187\n",
      "weighted avg       0.91      0.52      0.62       187\n",
      "\n"
     ]
    }
   ],
   "source": [
    "from sklearn import metrics\n",
    "print(metrics.accuracy_score(target_test, y_pred_test))\n",
    "print(metrics.confusion_matrix(target_test, y_pred_test))\n",
    "print(metrics.classification_report(target_test, y_pred_test))"
   ]
  },
  {
   "cell_type": "markdown",
   "metadata": {},
   "source": [
    "#### Now we apply PCA and check model metrics and performance "
   ]
  },
  {
   "cell_type": "code",
   "execution_count": 28,
   "metadata": {},
   "outputs": [
    {
     "name": "stdout",
     "output_type": "stream",
     "text": [
      "44\n"
     ]
    },
    {
     "data": {
      "text/plain": [
       "array([27.3, 14.4,  9.9,  6.4,  4.8,  4.5,  4.2,  3.3,  2.9,  2.8,  2.4,\n",
       "        2.2,  1.6,  1.5,  1.3,  1.2,  1. ,  0.9,  0.9,  0.8,  0.7,  0.6,\n",
       "        0.5,  0.5,  0.4,  0.4,  0.4,  0.3,  0.3,  0.2,  0.2,  0.2,  0.2,\n",
       "        0.1,  0.1,  0.1,  0.1,  0.1,  0.1,  0.1,  0. ,  0. ,  0. ,  0. ])"
      ]
     },
     "execution_count": 28,
     "metadata": {},
     "output_type": "execute_result"
    }
   ],
   "source": [
    "from sklearn.decomposition import PCA\n",
    "pca = PCA()\n",
    "pca.fit(spec_df)\n",
    "# We are dwaling with onlt features, hence label not required in fit\n",
    "print(pca.n_components_)\n",
    "np.round(pca.explained_variance_ratio_ * 100, 1)"
   ]
  },
  {
   "cell_type": "markdown",
   "metadata": {},
   "source": [
    "*** This explains how much of each features explain the whole of data"
   ]
  },
  {
   "cell_type": "markdown",
   "metadata": {},
   "source": [
    "*** Randomly select first 15 components to explain the whole data instead if all 44 features"
   ]
  },
  {
   "cell_type": "code",
   "execution_count": 23,
   "metadata": {},
   "outputs": [
    {
     "data": {
      "text/plain": [
       "array([27.3, 14.4,  9.9,  6.4,  4.8,  4.5,  4.2,  3.3,  2.9,  2.8,  2.4,\n",
       "        2.2,  1.6,  1.5,  1.3])"
      ]
     },
     "execution_count": 23,
     "metadata": {},
     "output_type": "execute_result"
    }
   ],
   "source": [
    "np.round(pca.explained_variance_ratio_[0:15] *100, 1)"
   ]
  },
  {
   "cell_type": "code",
   "execution_count": 26,
   "metadata": {},
   "outputs": [
    {
     "data": {
      "text/plain": [
       "0.893476015325651"
      ]
     },
     "execution_count": 26,
     "metadata": {},
     "output_type": "execute_result"
    }
   ],
   "source": [
    "pca.explained_variance_ratio_[0:15].sum() # Just 15 components are enough to explain almost 90% of the data. So we need not use\n",
    "# all the components which explains the curse of dimensionality problem"
   ]
  },
  {
   "cell_type": "markdown",
   "metadata": {},
   "source": [
    "#### Plot the relation b/w variance and components to choose the right no of PCA components required "
   ]
  },
  {
   "cell_type": "code",
   "execution_count": 27,
   "metadata": {},
   "outputs": [
    {
     "data": {
      "image/png": "[encoded data removed]",
      "text/plain": [
       "<Figure size 432x288 with 1 Axes>"
      ]
     },
     "metadata": {
      "needs_background": "light"
     },
     "output_type": "display_data"
    }
   ],
   "source": [
    "plt.plot(np.cumsum(pca.explained_variance_ratio_))\n",
    "plt.xlabel('No of components')\n",
    "plt.ylabel(' Cumulative explained variance')\n",
    "plt.show()"
   ]
  },
  {
   "cell_type": "markdown",
   "metadata": {},
   "source": [
    "*** We can go ahead with only 15 components as it explains 90% of our data"
   ]
  },
  {
   "cell_type": "code",
   "execution_count": 29,
   "metadata": {},
   "outputs": [],
   "source": [
    "x_pca = PCA(n_components = 15)\n",
    "spec_pca = x_pca.fit_transform(spec_df)\n",
    "spec_test_pca = x_pca.fit_transform(spec_test_df)"
   ]
  },
  {
   "cell_type": "markdown",
   "metadata": {},
   "source": [
    "*** Now compare the original df with pca modified df"
   ]
  },
  {
   "cell_type": "code",
   "execution_count": 30,
   "metadata": {},
   "outputs": [
    {
     "name": "stdout",
     "output_type": "stream",
     "text": [
      "(80, 44)\n",
      "(80, 15)\n"
     ]
    }
   ],
   "source": [
    "print(spec_df.shape)\n",
    "print(spec_pca.shape)"
   ]
  },
  {
   "cell_type": "code",
   "execution_count": 31,
   "metadata": {},
   "outputs": [
    {
     "name": "stdout",
     "output_type": "stream",
     "text": [
      "(187, 44)\n",
      "(187, 15)\n"
     ]
    }
   ],
   "source": [
    "print(spec_test_df.shape)\n",
    "print(spec_test_pca.shape)"
   ]
  },
  {
   "cell_type": "code",
   "execution_count": 33,
   "metadata": {},
   "outputs": [
    {
     "name": "stdout",
     "output_type": "stream",
     "text": [
      "(80, 15)\n"
     ]
    }
   ],
   "source": [
    "transform_df = pd.DataFrame(spec_pca, columns=('P1','P2','P3','P4','P5','P6','P7','P8','P9','P10','P11','P12','P13','P14','P15'))\n",
    "transform_df.head()\n",
    "print(transform_df.shape)"
   ]
  },
  {
   "cell_type": "markdown",
   "metadata": {},
   "source": [
    "*** Check the correlation after applying the PCA for df"
   ]
  },
  {
   "cell_type": "code",
   "execution_count": 35,
   "metadata": {},
   "outputs": [
    {
     "data": {
      "text/plain": [
       "Text(0.5, 1.0, 'Correlation after PCA')"
      ]
     },
     "execution_count": 35,
     "metadata": {},
     "output_type": "execute_result"
    },
    {
     "data": {
      "image/png": "[encoded data removed]",
      "text/plain": [
       "<Figure size 432x288 with 2 Axes>"
      ]
     },
     "metadata": {
      "needs_background": "light"
     },
     "output_type": "display_data"
    }
   ],
   "source": [
    "corr = transform_df.corr()\n",
    "sns.heatmap(corr, square=True, cmap='viridis')\n",
    "plt.title('Correlation after PCA')"
   ]
  },
  {
   "cell_type": "markdown",
   "metadata": {},
   "source": [
    "*** All the 15 components do not have any correlation which is good in terms of explaing the model since all are independent and can explain differently."
   ]
  },
  {
   "cell_type": "markdown",
   "metadata": {},
   "source": [
    "*** Check the processing time now for logistic regression now after applying PCA"
   ]
  },
  {
   "cell_type": "code",
   "execution_count": 39,
   "metadata": {},
   "outputs": [
    {
     "name": "stdout",
     "output_type": "stream",
     "text": [
      "Time to evaluate model with PCA: 0.003999948501586914\n"
     ]
    },
    {
     "name": "stderr",
     "output_type": "stream",
     "text": [
      "C:\\Users\\karthikeya\\Anaconda3\\lib\\site-packages\\sklearn\\linear_model\\logistic.py:433: FutureWarning: Default solver will be changed to 'lbfgs' in 0.22. Specify a solver to silence this warning.\n",
      "  FutureWarning)\n"
     ]
    }
   ],
   "source": [
    "pca_logreg = LogisticRegression()\n",
    "start = time.time()\n",
    "pca_logreg.fit(spec_pca, target)\n",
    "end = time.time()\n",
    "processing_time = end-start\n",
    "print('Time to evaluate model with PCA:',processing_time )"
   ]
  },
  {
   "cell_type": "code",
   "execution_count": 41,
   "metadata": {},
   "outputs": [
    {
     "name": "stdout",
     "output_type": "stream",
     "text": [
      "0.5508021390374331\n",
      "[[13  2]\n",
      " [82 90]]\n",
      "              precision    recall  f1-score   support\n",
      "\n",
      "           0       0.14      0.87      0.24        15\n",
      "           1       0.98      0.52      0.68       172\n",
      "\n",
      "   micro avg       0.55      0.55      0.55       187\n",
      "   macro avg       0.56      0.69      0.46       187\n",
      "weighted avg       0.91      0.55      0.65       187\n",
      "\n"
     ]
    }
   ],
   "source": [
    "y_pred_pca = pca_logreg.predict(spec_test_pca)\n",
    "print(metrics.accuracy_score(target_test,y_pred_pca))\n",
    "print(metrics.confusion_matrix(target_test,y_pred_pca))\n",
    "print(metrics.classification_report(target_test,y_pred_pca))"
   ]
  },
  {
   "cell_type": "markdown",
   "metadata": {},
   "source": [
    "*** We can clearly see even with reduced components from 44 to 15 we have same accuracy, precision and recall values and model evaluation time has reduced form 0.0080 to 0.0039 secs."
   ]
  }
 ],
 "metadata": {
  "kernelspec": {
   "display_name": "Python 3",
   "language": "python",
   "name": "python3"
  },
  "language_info": {
   "codemirror_mode": {
    "name": "ipython",
    "version": 3
   },
   "file_extension": ".py",
   "mimetype": "text/x-python",
   "name": "python",
   "nbconvert_exporter": "python",
   "pygments_lexer": "ipython3",
   "version": "3.7.3"
  }
 },
 "nbformat": 4,
 "nbformat_minor": 2
}
